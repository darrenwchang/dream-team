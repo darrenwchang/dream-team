{
 "cells": [
  {
   "cell_type": "code",
   "execution_count": 1,
   "metadata": {},
   "outputs": [
    {
     "name": "stderr",
     "output_type": "stream",
     "text": [
      "\u001b[32m\u001b[1m Activating\u001b[22m\u001b[39m environment at `C:\\Users\\darre\\Documents\\_cornell 20-21\\orie 4741\\dream-team\\proxgrad models\\proxgrad\\Project.toml`\n"
     ]
    }
   ],
   "source": [
    "]activate proxgrad"
   ]
  },
  {
   "cell_type": "code",
   "execution_count": 2,
   "metadata": {},
   "outputs": [],
   "source": [
    "using DataFrames, LowRankModels, Plots, CSV, Random"
   ]
  },
  {
   "cell_type": "code",
   "execution_count": 3,
   "metadata": {
    "scrolled": false
   },
   "outputs": [
    {
     "data": {
      "text/html": [
       "<table class=\"data-frame\"><thead><tr><th></th><th>week</th><th>Player</th><th>Pos</th><th>team1</th><th>PassingYds</th><th>PassingTD</th><th>Int</th><th>PassingAtt</th></tr><tr><th></th><th>Int64</th><th>String</th><th>String?</th><th>String</th><th>Int64</th><th>Int64</th><th>Int64</th><th>Int64</th></tr></thead><tbody><p>52,814 rows × 58 columns (omitted printing of 50 columns)</p><tr><th>1</th><td>1</td><td>Tony Romo</td><td>QB</td><td>DAL</td><td>353</td><td>3</td><td>0</td><td>27</td></tr><tr><th>2</th><td>1</td><td>Drew Brees</td><td>QB</td><td>NOR</td><td>358</td><td>6</td><td>1</td><td>34</td></tr><tr><th>3</th><td>1</td><td>Brodie Croyle</td><td>QB</td><td>KAN</td><td>177</td><td>2</td><td>0</td><td>24</td></tr><tr><th>4</th><td>1</td><td>Trent Edwards</td><td>QB</td><td>BUF</td><td>212</td><td>2</td><td>0</td><td>25</td></tr><tr><th>5</th><td>1</td><td>Bruce Gradkowski</td><td>QB</td><td>OAK</td><td>17</td><td>0</td><td>0</td><td>2</td></tr><tr><th>6</th><td>1</td><td>Kyle Orton</td><td>QB</td><td>DEN</td><td>243</td><td>1</td><td>0</td><td>28</td></tr><tr><th>7</th><td>1</td><td>Matt Ryan</td><td>QB</td><td>ATL</td><td>229</td><td>2</td><td>0</td><td>36</td></tr><tr><th>8</th><td>1</td><td>Tom Brady</td><td>QB</td><td>NWE</td><td>378</td><td>2</td><td>1</td><td>53</td></tr><tr><th>9</th><td>1</td><td>Matt Hasselbeck</td><td>QB</td><td>SEA</td><td>279</td><td>3</td><td>2</td><td>36</td></tr><tr><th>10</th><td>1</td><td>Joe Flacco</td><td>QB</td><td>BAL</td><td>307</td><td>3</td><td>1</td><td>43</td></tr><tr><th>11</th><td>1</td><td>Brett Favre</td><td>QB</td><td>MIN</td><td>110</td><td>1</td><td>0</td><td>21</td></tr><tr><th>12</th><td>1</td><td>Peyton Manning</td><td>QB</td><td>IND</td><td>301</td><td>1</td><td>1</td><td>38</td></tr><tr><th>13</th><td>1</td><td>Jason Campbell</td><td>QB</td><td>WAS</td><td>211</td><td>1</td><td>1</td><td>26</td></tr><tr><th>14</th><td>1</td><td>Eli Manning</td><td>QB</td><td>NYG</td><td>256</td><td>1</td><td>1</td><td>29</td></tr><tr><th>15</th><td>1</td><td>Aaron Rodgers</td><td>QB</td><td>GNB</td><td>184</td><td>1</td><td>0</td><td>28</td></tr><tr><th>16</th><td>1</td><td>Ben Roethlisberger</td><td>QB</td><td>PIT</td><td>363</td><td>1</td><td>2</td><td>43</td></tr><tr><th>17</th><td>1</td><td>Shaun Hill</td><td>QB</td><td>SFO</td><td>209</td><td>1</td><td>0</td><td>31</td></tr><tr><th>18</th><td>1</td><td>Byron Leftwich</td><td>QB</td><td>TAM</td><td>276</td><td>1</td><td>0</td><td>41</td></tr><tr><th>19</th><td>1</td><td>Chad Pennington</td><td>QB</td><td>MIA</td><td>176</td><td>1</td><td>1</td><td>29</td></tr><tr><th>20</th><td>1</td><td>Philip Rivers</td><td>QB</td><td>SDG</td><td>252</td><td>1</td><td>1</td><td>36</td></tr><tr><th>21</th><td>1</td><td>Mark Sanchez</td><td>QB</td><td>NYJ</td><td>272</td><td>1</td><td>1</td><td>31</td></tr><tr><th>22</th><td>1</td><td>Kerry Collins</td><td>QB</td><td>TEN</td><td>244</td><td>1</td><td>1</td><td>35</td></tr><tr><th>23</th><td>1</td><td>Donovan McNabb</td><td>QB</td><td>PHI</td><td>79</td><td>2</td><td>1</td><td>18</td></tr><tr><th>24</th><td>1</td><td>Brady Quinn</td><td>QB</td><td>CLE</td><td>205</td><td>1</td><td>1</td><td>35</td></tr><tr><th>25</th><td>1</td><td>Kevin Kolb</td><td>QB</td><td>PHI</td><td>23</td><td>0</td><td>0</td><td>11</td></tr><tr><th>26</th><td>1</td><td>Kurt Warner</td><td>QB</td><td>ARI</td><td>288</td><td>1</td><td>2</td><td>44</td></tr><tr><th>27</th><td>1</td><td>Marc Bulger</td><td>QB</td><td>STL</td><td>191</td><td>0</td><td>0</td><td>36</td></tr><tr><th>28</th><td>1</td><td>David Garrard</td><td>QB</td><td>JAX</td><td>122</td><td>0</td><td>0</td><td>28</td></tr><tr><th>29</th><td>1</td><td>Carson Palmer</td><td>QB</td><td>CIN</td><td>247</td><td>0</td><td>2</td><td>33</td></tr><tr><th>30</th><td>1</td><td>Matt Schaub</td><td>QB</td><td>HOU</td><td>166</td><td>0</td><td>1</td><td>33</td></tr><tr><th>&vellip;</th><td>&vellip;</td><td>&vellip;</td><td>&vellip;</td><td>&vellip;</td><td>&vellip;</td><td>&vellip;</td><td>&vellip;</td><td>&vellip;</td></tr></tbody></table>"
      ],
      "text/latex": [
       "\\begin{tabular}{r|ccccccccc}\n",
       "\t& week & Player & Pos & team1 & PassingYds & PassingTD & Int & PassingAtt & \\\\\n",
       "\t\\hline\n",
       "\t& Int64 & String & String? & String & Int64 & Int64 & Int64 & Int64 & \\\\\n",
       "\t\\hline\n",
       "\t1 & 1 & Tony Romo & QB & DAL & 353 & 3 & 0 & 27 & $\\dots$ \\\\\n",
       "\t2 & 1 & Drew Brees & QB & NOR & 358 & 6 & 1 & 34 & $\\dots$ \\\\\n",
       "\t3 & 1 & Brodie Croyle & QB & KAN & 177 & 2 & 0 & 24 & $\\dots$ \\\\\n",
       "\t4 & 1 & Trent Edwards & QB & BUF & 212 & 2 & 0 & 25 & $\\dots$ \\\\\n",
       "\t5 & 1 & Bruce Gradkowski & QB & OAK & 17 & 0 & 0 & 2 & $\\dots$ \\\\\n",
       "\t6 & 1 & Kyle Orton & QB & DEN & 243 & 1 & 0 & 28 & $\\dots$ \\\\\n",
       "\t7 & 1 & Matt Ryan & QB & ATL & 229 & 2 & 0 & 36 & $\\dots$ \\\\\n",
       "\t8 & 1 & Tom Brady & QB & NWE & 378 & 2 & 1 & 53 & $\\dots$ \\\\\n",
       "\t9 & 1 & Matt Hasselbeck & QB & SEA & 279 & 3 & 2 & 36 & $\\dots$ \\\\\n",
       "\t10 & 1 & Joe Flacco & QB & BAL & 307 & 3 & 1 & 43 & $\\dots$ \\\\\n",
       "\t11 & 1 & Brett Favre & QB & MIN & 110 & 1 & 0 & 21 & $\\dots$ \\\\\n",
       "\t12 & 1 & Peyton Manning & QB & IND & 301 & 1 & 1 & 38 & $\\dots$ \\\\\n",
       "\t13 & 1 & Jason Campbell & QB & WAS & 211 & 1 & 1 & 26 & $\\dots$ \\\\\n",
       "\t14 & 1 & Eli Manning & QB & NYG & 256 & 1 & 1 & 29 & $\\dots$ \\\\\n",
       "\t15 & 1 & Aaron Rodgers & QB & GNB & 184 & 1 & 0 & 28 & $\\dots$ \\\\\n",
       "\t16 & 1 & Ben Roethlisberger & QB & PIT & 363 & 1 & 2 & 43 & $\\dots$ \\\\\n",
       "\t17 & 1 & Shaun Hill & QB & SFO & 209 & 1 & 0 & 31 & $\\dots$ \\\\\n",
       "\t18 & 1 & Byron Leftwich & QB & TAM & 276 & 1 & 0 & 41 & $\\dots$ \\\\\n",
       "\t19 & 1 & Chad Pennington & QB & MIA & 176 & 1 & 1 & 29 & $\\dots$ \\\\\n",
       "\t20 & 1 & Philip Rivers & QB & SDG & 252 & 1 & 1 & 36 & $\\dots$ \\\\\n",
       "\t21 & 1 & Mark Sanchez & QB & NYJ & 272 & 1 & 1 & 31 & $\\dots$ \\\\\n",
       "\t22 & 1 & Kerry Collins & QB & TEN & 244 & 1 & 1 & 35 & $\\dots$ \\\\\n",
       "\t23 & 1 & Donovan McNabb & QB & PHI & 79 & 2 & 1 & 18 & $\\dots$ \\\\\n",
       "\t24 & 1 & Brady Quinn & QB & CLE & 205 & 1 & 1 & 35 & $\\dots$ \\\\\n",
       "\t25 & 1 & Kevin Kolb & QB & PHI & 23 & 0 & 0 & 11 & $\\dots$ \\\\\n",
       "\t26 & 1 & Kurt Warner & QB & ARI & 288 & 1 & 2 & 44 & $\\dots$ \\\\\n",
       "\t27 & 1 & Marc Bulger & QB & STL & 191 & 0 & 0 & 36 & $\\dots$ \\\\\n",
       "\t28 & 1 & David Garrard & QB & JAX & 122 & 0 & 0 & 28 & $\\dots$ \\\\\n",
       "\t29 & 1 & Carson Palmer & QB & CIN & 247 & 0 & 2 & 33 & $\\dots$ \\\\\n",
       "\t30 & 1 & Matt Schaub & QB & HOU & 166 & 0 & 1 & 33 & $\\dots$ \\\\\n",
       "\t$\\dots$ & $\\dots$ & $\\dots$ & $\\dots$ & $\\dots$ & $\\dots$ & $\\dots$ & $\\dots$ & $\\dots$ &  \\\\\n",
       "\\end{tabular}\n"
      ],
      "text/plain": [
       "52814×58 DataFrame. Omitted printing of 52 columns\n",
       "│ Row   │ week  │ Player           │ Pos     │ team1  │ PassingYds │ PassingTD │\n",
       "│       │ \u001b[90mInt64\u001b[39m │ \u001b[90mString\u001b[39m           │ \u001b[90mString?\u001b[39m │ \u001b[90mString\u001b[39m │ \u001b[90mInt64\u001b[39m      │ \u001b[90mInt64\u001b[39m     │\n",
       "├───────┼───────┼──────────────────┼─────────┼────────┼────────────┼───────────┤\n",
       "│ 1     │ 1     │ Tony Romo        │ QB      │ DAL    │ 353        │ 3         │\n",
       "│ 2     │ 1     │ Drew Brees       │ QB      │ NOR    │ 358        │ 6         │\n",
       "│ 3     │ 1     │ Brodie Croyle    │ QB      │ KAN    │ 177        │ 2         │\n",
       "│ 4     │ 1     │ Trent Edwards    │ QB      │ BUF    │ 212        │ 2         │\n",
       "│ 5     │ 1     │ Bruce Gradkowski │ QB      │ OAK    │ 17         │ 0         │\n",
       "│ 6     │ 1     │ Kyle Orton       │ QB      │ DEN    │ 243        │ 1         │\n",
       "│ 7     │ 1     │ Matt Ryan        │ QB      │ ATL    │ 229        │ 2         │\n",
       "│ 8     │ 1     │ Tom Brady        │ QB      │ NWE    │ 378        │ 2         │\n",
       "│ 9     │ 1     │ Matt Hasselbeck  │ QB      │ SEA    │ 279        │ 3         │\n",
       "│ 10    │ 1     │ Joe Flacco       │ QB      │ BAL    │ 307        │ 3         │\n",
       "⋮\n",
       "│ 52804 │ 17    │ Noah Fant        │ TE      │ DEN    │ 0          │ 0         │\n",
       "│ 52805 │ 17    │ J.D. McKissic    │ RB      │ DET    │ 0          │ 0         │\n",
       "│ 52806 │ 17    │ Ben Watson       │ TE      │ NWE    │ 0          │ 0         │\n",
       "│ 52807 │ 17    │ Cyril Grayson    │ WR      │ TAM    │ 0          │ 0         │\n",
       "│ 52808 │ 17    │ Cameron Brate    │ TE      │ TAM    │ 0          │ 0         │\n",
       "│ 52809 │ 17    │ Johnny Mundt     │ TE      │ LAR    │ 0          │ 0         │\n",
       "│ 52810 │ 17    │ Tavon Austin     │ WR      │ DAL    │ 0          │ 0         │\n",
       "│ 52811 │ 17    │ Blake Bell       │ TE      │ KAN    │ 0          │ 0         │\n",
       "│ 52812 │ 17    │ Jamal Agnew      │ CB      │ DET    │ 0          │ 0         │\n",
       "│ 52813 │ 17    │ Trevor Davis     │ WR      │ MIA    │ 0          │ 0         │\n",
       "│ 52814 │ 17    │ Joe Thuney       │ OL      │ NWE    │ 0          │ 0         │"
      ]
     },
     "execution_count": 3,
     "metadata": {},
     "output_type": "execute_result"
    }
   ],
   "source": [
    "df = CSV.read(\"../data collection/weekly_ff_elo.csv\", DataFrame, missingstring = \"NA\")"
   ]
  },
  {
   "cell_type": "code",
   "execution_count": 21,
   "metadata": {},
   "outputs": [
    {
     "name": "stdout",
     "output_type": "stream",
     "text": [
      "Size of dataset: 52814\n"
     ]
    }
   ],
   "source": [
    "Random.seed!(0)\n",
    "\n",
    "df = df[.!(ismissing.(df[!, :StandardFantasyPoints])), :]\n",
    "df = df[shuffle(1:end), :]\n",
    "\n",
    "train_proportion = 0.8\n",
    "n = size(df, 1)\n",
    "println(\"Size of dataset: \", string(n))\n",
    "\n",
    "ntrain = convert(Int, round(train_proportion*n))\n",
    "\n",
    "target = df[:, [:StandardFantasyPoints, :PPRFantasyPoints, :HalfPPRFantasyPoints]]\n",
    "\n",
    "train_x = df[1:ntrain, Not([:StandardFantasyPoints, :PPRFantasyPoints, :HalfPPRFantasyPoints])]\n",
    "test_x = df[ntrain:end, Not([:StandardFantasyPoints, :PPRFantasyPoints, :HalfPPRFantasyPoints])]\n",
    "\n",
    "train_std = target[1:ntrain, :StandardFantasyPoints]\n",
    "test_std = target[ntrain:end, :StandardFantasyPoints]\n",
    "\n",
    "train_ppr = target[1:ntrain, :PPRFantasyPoints]\n",
    "test_ppr = target[ntrain:end, :PPRFantasyPoints]\n",
    "\n",
    "train_half = target[1:ntrain, :HalfPPRFantasyPoints]\n",
    "test_half = target[ntrain:end, :HalfPPRFantasyPoints]\n",
    "\n",
    "# let's take a look\n",
    "train_x;"
   ]
  },
  {
   "cell_type": "code",
   "execution_count": 22,
   "metadata": {},
   "outputs": [],
   "source": [
    "labels_real = [\n",
    "    :PassingYds_cum,\n",
    "    :PassingTD_cum,\n",
    "    :Int_cum,\n",
    "    :PassingAtt_cum,\n",
    "    :Cmp_cum,\n",
    "    :RushingAtt_cum,\n",
    "    :RushingYds_cum,\n",
    "    :RushingTD_cum,\n",
    "    :Rec_cum,\n",
    "    :Tgt_cum,\n",
    "    :ReceivingYds_cum,\n",
    "    :ReceivingTD_cum,\n",
    "    :FL_cum,\n",
    "    :team1_score_cum,\n",
    "    :team2_score_cum,\n",
    "    :PassingYds_prev,\n",
    "    :PassingTD_prev,\n",
    "    :Int_prev,\n",
    "    :PassingAtt_prev,\n",
    "    :Cmp_prev,\n",
    "    :RushingAtt_prev,\n",
    "    :RushingYds_prev,\n",
    "    :RushingTD_prev,\n",
    "    :Rec_prev,\n",
    "    :Tgt_prev,\n",
    "    :ReceivingYds_prev,\n",
    "    :ReceivingTD_prev,\n",
    "    :FL_prev,\n",
    "    :team1_score_prev,\n",
    "    :team2_score_prev,\n",
    "    :elo1_pre,\n",
    "    :elo2_pre\n",
    "]\n",
    "\n",
    "train_real = train_x[:, labels_real]\n",
    "test_real = test_x[:, labels_real];\n",
    "df_real = df[:, labels_real];"
   ]
  },
  {
   "cell_type": "code",
   "execution_count": 6,
   "metadata": {},
   "outputs": [],
   "source": [
    "A = zeros(42251, 5)*zeros(5, 32)\n",
    "loss = QuadLoss()\n",
    "reg = QuadReg(0.01)\n",
    "k = 5\n",
    "Ω = observations(train_real)\n",
    "glrm = GLRM(A, loss, reg, reg, k, obs = Ω);"
   ]
  },
  {
   "cell_type": "code",
   "execution_count": 35,
   "metadata": {},
   "outputs": [
    {
     "name": "stdout",
     "output_type": "stream",
     "text": [
      "Fitting GLRM\n",
      "Iteration 10: objective value = 4.906729234661519e6\n",
      "Iteration 20: objective value = 1.0022951420242077e6\n",
      "Iteration 30: objective value = 65707.60416848093\n",
      "Iteration 40: objective value = 7958.754605960012\n",
      "Iteration 50: objective value = 1735.302526011949\n",
      "Iteration 60: objective value = 439.5780696719361\n"
     ]
    }
   ],
   "source": [
    "Random.seed!(0)\n",
    "init_svd!(glrm)\n",
    "X,W,ch = fit!(glrm, max_iters = 1000, scale = false);"
   ]
  },
  {
   "cell_type": "code",
   "execution_count": 34,
   "metadata": {},
   "outputs": [
    {
     "data": {
      "text/plain": [
       "ConvergenceHistory(\"ProxGradGLRM\", [2.539209668890844e7, 2.225569191136907e7, 1.9381649016092658e7, 1.676566924294408e7, 1.4401334667321317e7, 1.2280172572714843e7, 1.03918275916812e7, 8.724276843586938e6, 7.26408271229118e6, 5.99667611773635e6  …  748.1384909337007, 629.0102267260863, 547.4709134890588, 515.1920562091717, 439.5780696719363, 386.553680020784, 365.8657723603099, 318.9693272806711, 286.6718600768849, 273.73507601864145], Float64[], [0.0, 0.0, 0.0, 0.0, 0.0, 0.0, 0.0, 0.0, 0.0, 0.0  …  0.0, 0.0, 0.0, 0.0, 0.0, 0.0, 0.0, 0.0, 0.0, 0.0], [0.0, 0.0, 0.0, 0.0, 0.0, 0.0, 0.0, 0.0, 0.0, 0.0  …  0.0, 0.0, 0.0, 0.0, 0.0, 0.0, 0.0, 0.0, 0.0, 0.0], [0.0, 33.335999965667725, 38.13199996948242, 43.651999950408936, 52.77199983596802, 61.978999853134155, 71.4449999332428, 81.16599988937378, 86.77899980545044, 93.35699987411499  …  424.64299964904785, 431.18499970436096, 439.2669997215271, 447.1039996147156, 453.6639997959137, 458.9249997138977, 468.5259997844696, 477.62799978256226, 486.21099972724915, 493.2279996871948], [0.0, 0.0, 0.0, 0.0, 0.0, 0.0, 0.0, 0.0, 0.0, 0.0  …  0.0, 0.0, 0.0, 0.0, 0.0, 0.0, 0.0, 0.0, 0.0, 0.0], 0)"
      ]
     },
     "execution_count": 34,
     "metadata": {},
     "output_type": "execute_result"
    }
   ],
   "source": [
    "ch"
   ]
  },
  {
   "cell_type": "code",
   "execution_count": 36,
   "metadata": {},
   "outputs": [
    {
     "data": {
      "text/plain": [
       "42251×32 Array{Number,2}:\n",
       "  0.298198  -1.66978    -0.0915753   …  -2.37458     1.80884   -1.46682\n",
       "  2.23011    1.43722     1.71714         1.5464     -0.382431  -2.68269\n",
       "  4.67355    1.19756     2.94718         0.106353   -3.3549    -5.29859\n",
       " -1.24312    1.47656     1.18151        -3.9113      0.996      3.18023\n",
       " -0.393378   0.701416   -0.826804        3.63716    -2.31072    0.713436\n",
       " -0.279185  -0.412313   -0.206634    …   0.459417    3.27338   -0.609738\n",
       " -0.88629   -2.9881     -2.50101         3.71287    -1.8319    -4.10687\n",
       " -4.13406    1.13208    -1.41463         0.245825   -1.17473    5.31428\n",
       " -3.13257   -3.78719    -2.26242        -2.70117     6.89957   -0.637992\n",
       " -2.02739    1.93701     0.00348299      0.368716   -0.207426   3.71993\n",
       "  0.612656  -0.736755    0.390903    …  -1.60343     3.09369   -0.991855\n",
       "  1.38515    0.0201841   0.735599       -1.74446    -0.894655   0.0546731\n",
       "  2.07162   -6.55816    -0.62237        -6.85893     2.96481   -7.41308\n",
       "  ⋮                                  ⋱               ⋮         \n",
       "  3.36249    2.55253     2.80246         0.94996    -2.67981   -2.51929\n",
       " -1.18444    0.757466   -1.14653     …   5.29009    -1.14514   -0.182855\n",
       " -6.29378   -1.9122     -3.31111        -1.22317     3.42521    4.47336\n",
       "  1.02632    1.08883    -0.046023        2.24662    -4.854      1.04668\n",
       " -2.69473   -0.987374   -1.45272        -1.78501     3.98495    3.45593\n",
       " -1.90043   -0.124981   -1.15382         0.327532   -0.740619   2.29207\n",
       "  1.63628    2.87132     1.37118     …   2.98057    -2.51255    0.679577\n",
       " -0.291822   0.177936   -1.06503         5.13576    -2.15635   -1.53258\n",
       "  0.162981  -1.54675     0.591013       -5.08267     1.4893    -1.01863\n",
       "  2.19575   -1.86367     2.34969        -8.20019     6.22229   -3.19077\n",
       "  0.86097   -0.187657    0.203939        0.0948679   1.44074   -0.526363\n",
       "  0.174207   3.07602     1.06208     …   2.1573     -2.96691    2.18502"
      ]
     },
     "execution_count": 36,
     "metadata": {},
     "output_type": "execute_result"
    }
   ],
   "source": [
    "B = impute_missing(glrm)"
   ]
  },
  {
   "cell_type": "code",
   "execution_count": 71,
   "metadata": {},
   "outputs": [
    {
     "data": {
      "text/plain": [
       "32-element Array{Float64,1}:\n",
       "   17.000871134610364\n",
       "  -22.842484729950087\n",
       "   -8.621782974642311\n",
       "  -59.58383601818882\n",
       "  -19.958118988618555\n",
       "   14.146435371164268\n",
       "   70.59274110073089\n",
       "  -41.16728558735958\n",
       "  -20.403052068780664\n",
       "   12.540949531421521\n",
       "    9.254074974099602\n",
       "   20.48879527585912\n",
       "    0.6859721083316462\n",
       "    ⋮\n",
       "   19.28233879144565\n",
       "    7.823661292783758\n",
       "    7.706914340232507\n",
       "  -14.825210511590784\n",
       "   -0.33848491358999006\n",
       "    0.6700547477632587\n",
       "  -48.52680793298255\n",
       "  -23.857905656371294\n",
       "  -38.40667767059051\n",
       "  -81.8571677172422\n",
       "   96.37958449185565\n",
       " -351.2150162069245"
      ]
     },
     "execution_count": 71,
     "metadata": {},
     "output_type": "execute_result"
    }
   ],
   "source": [
    "w = B \\ train_std"
   ]
  },
  {
   "cell_type": "code",
   "execution_count": 73,
   "metadata": {},
   "outputs": [],
   "source": [
    "using LinearAlgebra"
   ]
  },
  {
   "cell_type": "code",
   "execution_count": null,
   "metadata": {},
   "outputs": [],
   "source": [
    "sum(w'.*Matrix(test_real), dims = 2)"
   ]
  },
  {
   "cell_type": "markdown",
   "metadata": {},
   "source": [
    "The matrix imputation method seems to be misapplied or misscaled in some way such that the scalings do not work to predict points."
   ]
  }
 ],
 "metadata": {
  "kernelspec": {
   "display_name": "Julia 1.5.1",
   "language": "julia",
   "name": "julia-1.5"
  },
  "language_info": {
   "file_extension": ".jl",
   "mimetype": "application/julia",
   "name": "julia",
   "version": "1.5.1"
  }
 },
 "nbformat": 4,
 "nbformat_minor": 4
}
