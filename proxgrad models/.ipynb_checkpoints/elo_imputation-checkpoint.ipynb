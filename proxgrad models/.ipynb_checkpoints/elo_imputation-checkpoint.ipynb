{
 "cells": [
  {
   "cell_type": "code",
   "execution_count": 4,
   "metadata": {},
   "outputs": [
    {
     "name": "stderr",
     "output_type": "stream",
     "text": [
      "\u001b[32m\u001b[1m Activating\u001b[22m\u001b[39m environment at `C:\\Users\\darre\\Documents\\_cornell 20-21\\orie 4741\\dream-team\\proxgrad models\\proxgrad\\Project.toml`\n"
     ]
    }
   ],
   "source": [
    "]activate proxgrad"
   ]
  },
  {
   "cell_type": "code",
   "execution_count": 13,
   "metadata": {},
   "outputs": [],
   "source": [
    "using DataFrames, LowRankModels, Plots, CSV, Random"
   ]
  },
  {
   "cell_type": "code",
   "execution_count": 49,
   "metadata": {
    "scrolled": false
   },
   "outputs": [
    {
     "ename": "LoadError",
     "evalue": "MethodError: no method matching CSV.File(::CSV.Header{false,Parsers.Options{false,true,true,false,Missing,UInt8,Nothing},Array{UInt8,1}}; debug=false, typemap=Dict{Type,Type}(), null=\"NA\", rows_for_type_detect=11000)\nClosest candidates are:\n  CSV.File(::CSV.Header; finalizebuffer, startingbyteposition, endingbyteposition, limit, threaded, typemap, tasks, lines_to_check, maxwarnings, debug) at C:\\Users\\darre\\.julia\\packages\\CSV\\RZjfZ\\src\\file.jl:221 got unsupported keyword arguments \"null\", \"rows_for_type_detect\"\n  CSV.File(::Any; header, normalizenames, datarow, skipto, footerskip, transpose, comment, use_mmap, ignoreemptylines, select, drop, missingstrings, missingstring, delim, ignorerepeated, quotechar, openquotechar, closequotechar, escapechar, dateformat, dateformats, decimal, truestrings, falsestrings, type, types, typemap, pool, lazystrings, strict, silencewarnings, debug, parsingdebug, kw...) at C:\\Users\\darre\\.julia\\packages\\CSV\\RZjfZ\\src\\file.jl:176",
     "output_type": "error",
     "traceback": [
      "MethodError: no method matching CSV.File(::CSV.Header{false,Parsers.Options{false,true,true,false,Missing,UInt8,Nothing},Array{UInt8,1}}; debug=false, typemap=Dict{Type,Type}(), null=\"NA\", rows_for_type_detect=11000)\nClosest candidates are:\n  CSV.File(::CSV.Header; finalizebuffer, startingbyteposition, endingbyteposition, limit, threaded, typemap, tasks, lines_to_check, maxwarnings, debug) at C:\\Users\\darre\\.julia\\packages\\CSV\\RZjfZ\\src\\file.jl:221 got unsupported keyword arguments \"null\", \"rows_for_type_detect\"\n  CSV.File(::Any; header, normalizenames, datarow, skipto, footerskip, transpose, comment, use_mmap, ignoreemptylines, select, drop, missingstrings, missingstring, delim, ignorerepeated, quotechar, openquotechar, closequotechar, escapechar, dateformat, dateformats, decimal, truestrings, falsestrings, type, types, typemap, pool, lazystrings, strict, silencewarnings, debug, parsingdebug, kw...) at C:\\Users\\darre\\.julia\\packages\\CSV\\RZjfZ\\src\\file.jl:176",
      "",
      "Stacktrace:",
      " [1] kwerr(::NamedTuple{(:debug, :typemap, :null, :rows_for_type_detect),Tuple{Bool,Dict{Type,Type},String,Int64}}, ::Type{T} where T, ::CSV.Header{false,Parsers.Options{false,true,true,false,Missing,UInt8,Nothing},Array{UInt8,1}}) at .\\error.jl:157",
      " [2] CSV.File(::String; header::Int64, normalizenames::Bool, datarow::Int64, skipto::Nothing, footerskip::Int64, transpose::Bool, comment::Nothing, use_mmap::Nothing, ignoreemptylines::Bool, select::Nothing, drop::Nothing, missingstrings::Array{String,1}, missingstring::String, delim::Nothing, ignorerepeated::Bool, quotechar::Char, openquotechar::Nothing, closequotechar::Nothing, escapechar::Char, dateformat::Nothing, dateformats::Nothing, decimal::UInt8, truestrings::Array{String,1}, falsestrings::Array{String,1}, type::Nothing, types::Nothing, typemap::Dict{Type,Type}, pool::Float64, lazystrings::Bool, strict::Bool, silencewarnings::Bool, debug::Bool, parsingdebug::Bool, kw::Base.Iterators.Pairs{Symbol,Any,Tuple{Symbol,Symbol},NamedTuple{(:null, :rows_for_type_detect),Tuple{String,Int64}}}) at C:\\Users\\darre\\.julia\\packages\\CSV\\RZjfZ\\src\\file.jl:218",
      " [3] read(::String, ::Type{T} where T; copycols::Bool, kwargs::Base.Iterators.Pairs{Symbol,Any,Tuple{Symbol,Symbol},NamedTuple{(:null, :rows_for_type_detect),Tuple{String,Int64}}}) at C:\\Users\\darre\\.julia\\packages\\CSV\\RZjfZ\\src\\CSV.jl:45",
      " [4] top-level scope at In[49]:1",
      " [5] include_string(::Function, ::Module, ::String, ::String) at .\\loading.jl:1091",
      " [6] execute_code(::String, ::String) at C:\\Users\\darre\\.julia\\packages\\IJulia\\a1SNk\\src\\execute_request.jl:27",
      " [7] execute_request(::ZMQ.Socket, ::IJulia.Msg) at C:\\Users\\darre\\.julia\\packages\\IJulia\\a1SNk\\src\\execute_request.jl:86",
      " [8] #invokelatest#1 at .\\essentials.jl:710 [inlined]",
      " [9] invokelatest at .\\essentials.jl:709 [inlined]",
      " [10] eventloop(::ZMQ.Socket) at C:\\Users\\darre\\.julia\\packages\\IJulia\\a1SNk\\src\\eventloop.jl:8",
      " [11] (::IJulia.var\"#15#18\")() at .\\task.jl:356"
     ]
    }
   ],
   "source": [
    "df = CSV.read(\"../data collection/weekly_ff_elo.csv\", DataFrame, null=\"NA\", rows_for_type_detect=11000)"
   ]
  },
  {
   "cell_type": "code",
   "execution_count": 37,
   "metadata": {},
   "outputs": [
    {
     "name": "stdout",
     "output_type": "stream",
     "text": [
      "Size of dataset: 52814\n"
     ]
    }
   ],
   "source": [
    "Random.seed!(0)\n",
    "\n",
    "df = df[.!(ismissing.(df[!, :StandardFantasyPoints])), :]\n",
    "df = df[shuffle(1:end), :]\n",
    "\n",
    "train_proportion = 0.8\n",
    "n = size(df, 1)\n",
    "println(\"Size of dataset: \", string(n))\n",
    "\n",
    "ntrain = convert(Int, round(train_proportion*n))\n",
    "\n",
    "target = df[:, [:StandardFantasyPoints, :PPRFantasyPoints, :HalfPPRFantasyPoints]]\n",
    "\n",
    "train_x = df[1:ntrain, Not([:StandardFantasyPoints, :PPRFantasyPoints, :HalfPPRFantasyPoints])]\n",
    "test_x = df[ntrain:end, Not([:StandardFantasyPoints, :PPRFantasyPoints, :HalfPPRFantasyPoints])]\n",
    "\n",
    "train_std = target[1:ntrain, :StandardFantasyPoints]\n",
    "test_std = target[ntrain:end, :StandardFantasyPoints]\n",
    "\n",
    "train_ppr = target[1:ntrain, :PPRFantasyPoints]\n",
    "test_ppr = target[ntrain:end, :PPRFantasyPoints]\n",
    "\n",
    "train_half = target[1:ntrain, :HalfPPRFantasyPoints]\n",
    "test_half = target[ntrain:end, :HalfPPRFantasyPoints]\n",
    "\n",
    "# let's take a look\n",
    "train_x;"
   ]
  },
  {
   "cell_type": "code",
   "execution_count": 38,
   "metadata": {},
   "outputs": [],
   "source": [
    "labels_real = [\n",
    "    :PassingYds_cum,\n",
    "    :PassingTD_cum,\n",
    "    :Int_cum,\n",
    "    :PassingAtt_cum,\n",
    "    :Cmp_cum,\n",
    "    :RushingAtt_cum,\n",
    "    :RushingYds_cum,\n",
    "    :RushingTD_cum,\n",
    "    :Rec_cum,\n",
    "    :Tgt_cum,\n",
    "    :ReceivingYds_cum,\n",
    "    :ReceivingTD_cum,\n",
    "    :FL_cum,\n",
    "    :team1_score_cum,\n",
    "    :team2_score_cum,\n",
    "    :PassingYds_prev,\n",
    "    :PassingTD_prev,\n",
    "    :Int_prev,\n",
    "    :PassingAtt_prev,\n",
    "    :Cmp_prev,\n",
    "    :RushingAtt_prev,\n",
    "    :RushingYds_prev,\n",
    "    :RushingTD_prev,\n",
    "    :Rec_prev,\n",
    "    :Tgt_prev,\n",
    "    :ReceivingYds_prev,\n",
    "    :ReceivingTD_prev,\n",
    "    :FL_prev,\n",
    "    :team1_score_prev,\n",
    "    :team2_score_prev,\n",
    "    :elo1_pre,\n",
    "    :elo2_pre\n",
    "]\n",
    "\n",
    "train_real = train_x[:, labels_real]\n",
    "test_real = test_x[:, labels_real];"
   ]
  },
  {
   "cell_type": "code",
   "execution_count": 39,
   "metadata": {},
   "outputs": [
    {
     "ename": "LoadError",
     "evalue": "MethodError: no method matching sort_observations(::Array{Any,2}, ::Int64, ::Int64)\nClosest candidates are:\n  sort_observations(!Matched::Union{Array{Tuple{Int64,Int64},1}, Array{CartesianIndex{2},1}}, ::Int64, ::Int64; check_empty) at C:\\Users\\darre\\.julia\\packages\\LowRankModels\\YZgma\\src\\modify_glrm.jl:5",
     "output_type": "error",
     "traceback": [
      "MethodError: no method matching sort_observations(::Array{Any,2}, ::Int64, ::Int64)\nClosest candidates are:\n  sort_observations(!Matched::Union{Array{Tuple{Int64,Int64},1}, Array{CartesianIndex{2},1}}, ::Int64, ::Int64; check_empty) at C:\\Users\\darre\\.julia\\packages\\LowRankModels\\YZgma\\src\\modify_glrm.jl:5",
      "",
      "Stacktrace:",
      " [1] GLRM(::Array{Float64,2}, ::Array{Loss,1}, ::Array{Regularizer,1}, ::Array{Regularizer,1}, ::Int64; X::Array{Float64,2}, Y::Array{Float64,2}, obs::Array{Any,2}, observed_features::Array{UnitRange{Int64},1}, observed_examples::Array{UnitRange{Int64},1}, offset::Bool, scale::Bool, checknan::Bool, sparse_na::Bool) at C:\\Users\\darre\\.julia\\packages\\LowRankModels\\YZgma\\src\\glrm.jl:54",
      " [2] GLRM(::Array{Float64,2}, ::QuadLoss, ::QuadReg, ::QuadReg, ::Int64; kwargs::Base.Iterators.Pairs{Symbol,Array{Any,2},Tuple{Symbol},NamedTuple{(:obs,),Tuple{Array{Any,2}}}}) at C:\\Users\\darre\\.julia\\packages\\LowRankModels\\YZgma\\src\\utilities\\conveniencemethods.jl:48",
      " [3] top-level scope at In[39]:6",
      " [4] include_string(::Function, ::Module, ::String, ::String) at .\\loading.jl:1091",
      " [5] execute_code(::String, ::String) at C:\\Users\\darre\\.julia\\packages\\IJulia\\a1SNk\\src\\execute_request.jl:27",
      " [6] execute_request(::ZMQ.Socket, ::IJulia.Msg) at C:\\Users\\darre\\.julia\\packages\\IJulia\\a1SNk\\src\\execute_request.jl:86",
      " [7] #invokelatest#1 at .\\essentials.jl:710 [inlined]",
      " [8] invokelatest at .\\essentials.jl:709 [inlined]",
      " [9] eventloop(::ZMQ.Socket) at C:\\Users\\darre\\.julia\\packages\\IJulia\\a1SNk\\src\\eventloop.jl:8",
      " [10] (::IJulia.var\"#15#18\")() at .\\task.jl:356"
     ]
    }
   ],
   "source": [
    "A = randn(52814, 5)*randn(5, 32)\n",
    "loss = QuadLoss()\n",
    "reg = QuadReg(0.01)\n",
    "k = 5\n",
    "Ω = convert(Matrix, df_real)\n",
    "glrm = GLRM(A, loss, reg, reg, k, obs = Ω)"
   ]
  },
  {
   "cell_type": "code",
   "execution_count": null,
   "metadata": {},
   "outputs": [],
   "source": []
  }
 ],
 "metadata": {
  "kernelspec": {
   "display_name": "Julia 1.5.1",
   "language": "julia",
   "name": "julia-1.5"
  },
  "language_info": {
   "file_extension": ".jl",
   "mimetype": "application/julia",
   "name": "julia",
   "version": "1.5.1"
  }
 },
 "nbformat": 4,
 "nbformat_minor": 4
}
