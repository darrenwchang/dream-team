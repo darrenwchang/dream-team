{
 "cells": [
  {
   "cell_type": "code",
   "execution_count": 1,
   "metadata": {},
   "outputs": [],
   "source": [
    "using CSV, DataFrames"
   ]
  },
  {
   "cell_type": "code",
   "execution_count": 12,
   "metadata": {},
   "outputs": [
    {
     "data": {
      "text/html": [
       "<table class=\"data-frame\"><thead><tr><th></th><th>Week</th><th>Player</th><th>Slot</th><th>Pos_FF</th><th>Status</th><th>Proj</th><th>Actual</th></tr><tr><th></th><th>Int64</th><th>String</th><th>Int64</th><th>String</th><th>String</th><th>Float64</th><th>Float64?</th></tr></thead><tbody><p>2,577 rows × 7 columns</p><tr><th>1</th><td>1</td><td>Saquon Barkley</td><td>2</td><td>RB</td><td>ACTIVE</td><td>23.1153</td><td>17.9</td></tr><tr><th>2</th><td>1</td><td>Alvin Kamara</td><td>2</td><td>RB</td><td>ACTIVE</td><td>21.169</td><td>23.9</td></tr><tr><th>3</th><td>1</td><td>James White</td><td>23</td><td>Flex</td><td>ACTIVE</td><td>13.9461</td><td>13.2</td></tr><tr><th>4</th><td>1</td><td>Tyler Boyd</td><td>4</td><td>WR</td><td>ACTIVE</td><td>14.1356</td><td>14.3</td></tr><tr><th>5</th><td>1</td><td>Jared Goff</td><td>0</td><td>QB</td><td>ACTIVE</td><td>17.2441</td><td>9.44</td></tr><tr><th>6</th><td>1</td><td>Austin Hooper</td><td>6</td><td>TE</td><td>ACTIVE</td><td>9.32816</td><td>16.7</td></tr><tr><th>7</th><td>1</td><td>Marquez Valdes-Scantling</td><td>20</td><td>Bench</td><td>ACTIVE</td><td>8.84849</td><td>9.2</td></tr><tr><th>8</th><td>1</td><td>Jordan Howard</td><td>20</td><td>Bench</td><td>QUESTIONABLE</td><td>8.83584</td><td>7.5</td></tr><tr><th>9</th><td>1</td><td>Donte Moncrief</td><td>23</td><td>Flex</td><td>ACTIVE</td><td>9.86088</td><td>3.7</td></tr><tr><th>10</th><td>1</td><td>Michael Gallup</td><td>4</td><td>WR</td><td>ACTIVE</td><td>10.0256</td><td>22.8</td></tr><tr><th>11</th><td>1</td><td>Giovani Bernard</td><td>20</td><td>Bench</td><td>ACTIVE</td><td>8.71469</td><td>8.3</td></tr><tr><th>12</th><td>1</td><td>Frank Gore</td><td>20</td><td>Bench</td><td>ACTIVE</td><td>6.41012</td><td>2.0</td></tr><tr><th>13</th><td>1</td><td>T.J. Hockenson</td><td>20</td><td>Bench</td><td>QUESTIONABLE</td><td>7.05175</td><td>25.1</td></tr><tr><th>14</th><td>1</td><td>David Johnson</td><td>2</td><td>RB</td><td>ACTIVE</td><td>19.4111</td><td>25.7</td></tr><tr><th>15</th><td>1</td><td>Brandin Cooks</td><td>4</td><td>WR</td><td>ACTIVE</td><td>14.4449</td><td>5.9</td></tr><tr><th>16</th><td>1</td><td>Mike Evans</td><td>4</td><td>WR</td><td>QUESTIONABLE</td><td>15.9702</td><td>4.8</td></tr><tr><th>17</th><td>1</td><td>Mark Ingram II</td><td>2</td><td>RB</td><td>ACTIVE</td><td>14.3487</td><td>22.7</td></tr><tr><th>18</th><td>1</td><td>Jameis Winston</td><td>0</td><td>QB</td><td>QUESTIONABLE</td><td>18.8019</td><td>7.06</td></tr><tr><th>19</th><td>1</td><td>Nyheim Hines</td><td>20</td><td>Bench</td><td>ACTIVE</td><td>7.51373</td><td>5.7</td></tr><tr><th>20</th><td>1</td><td>Malcolm Brown</td><td>20</td><td>Bench</td><td>ACTIVE</td><td>2.47356</td><td>17.3</td></tr><tr><th>21</th><td>1</td><td>KeeSean Johnson</td><td>23</td><td>Flex</td><td>ACTIVE</td><td>3.87833</td><td>9.6</td></tr><tr><th>22</th><td>1</td><td>Rashard Higgins</td><td>20</td><td>Bench</td><td>ACTIVE</td><td>7.48444</td><td>6.6</td></tr><tr><th>23</th><td>1</td><td>Alexander Mattison</td><td>20</td><td>Bench</td><td>ACTIVE</td><td>3.3032</td><td>4.9</td></tr><tr><th>24</th><td>1</td><td>N'Keal Harry</td><td>21</td><td>IR</td><td>ACTIVE</td><td>0.0</td><td>0.0</td></tr><tr><th>25</th><td>1</td><td>Kyler Murray</td><td>20</td><td>Bench</td><td>ACTIVE</td><td>17.8839</td><td>21.62</td></tr><tr><th>26</th><td>1</td><td>T.Y. Hilton</td><td>23</td><td>Flex</td><td>ACTIVE</td><td>12.779</td><td>28.7</td></tr><tr><th>27</th><td>1</td><td>Greg Olsen</td><td>6</td><td>TE</td><td>ACTIVE</td><td>8.41316</td><td>7.6</td></tr><tr><th>28</th><td>1</td><td>Todd Gurley II</td><td>2</td><td>RB</td><td>ACTIVE</td><td>16.9792</td><td>11.1</td></tr><tr><th>29</th><td>1</td><td>Keenan Allen</td><td>4</td><td>WR</td><td>ACTIVE</td><td>15.9351</td><td>26.3</td></tr><tr><th>30</th><td>1</td><td>Tyler Lockett</td><td>4</td><td>WR</td><td>ACTIVE</td><td>12.7113</td><td>11.4</td></tr><tr><th>&vellip;</th><td>&vellip;</td><td>&vellip;</td><td>&vellip;</td><td>&vellip;</td><td>&vellip;</td><td>&vellip;</td><td>&vellip;</td></tr></tbody></table>"
      ],
      "text/latex": [
       "\\begin{tabular}{r|ccccccc}\n",
       "\t& Week & Player & Slot & Pos\\_FF & Status & Proj & Actual\\\\\n",
       "\t\\hline\n",
       "\t& Int64 & String & Int64 & String & String & Float64 & Float64?\\\\\n",
       "\t\\hline\n",
       "\t1 & 1 & Saquon Barkley & 2 & RB & ACTIVE & 23.1153 & 17.9 \\\\\n",
       "\t2 & 1 & Alvin Kamara & 2 & RB & ACTIVE & 21.169 & 23.9 \\\\\n",
       "\t3 & 1 & James White & 23 & Flex & ACTIVE & 13.9461 & 13.2 \\\\\n",
       "\t4 & 1 & Tyler Boyd & 4 & WR & ACTIVE & 14.1356 & 14.3 \\\\\n",
       "\t5 & 1 & Jared Goff & 0 & QB & ACTIVE & 17.2441 & 9.44 \\\\\n",
       "\t6 & 1 & Austin Hooper & 6 & TE & ACTIVE & 9.32816 & 16.7 \\\\\n",
       "\t7 & 1 & Marquez Valdes-Scantling & 20 & Bench & ACTIVE & 8.84849 & 9.2 \\\\\n",
       "\t8 & 1 & Jordan Howard & 20 & Bench & QUESTIONABLE & 8.83584 & 7.5 \\\\\n",
       "\t9 & 1 & Donte Moncrief & 23 & Flex & ACTIVE & 9.86088 & 3.7 \\\\\n",
       "\t10 & 1 & Michael Gallup & 4 & WR & ACTIVE & 10.0256 & 22.8 \\\\\n",
       "\t11 & 1 & Giovani Bernard & 20 & Bench & ACTIVE & 8.71469 & 8.3 \\\\\n",
       "\t12 & 1 & Frank Gore & 20 & Bench & ACTIVE & 6.41012 & 2.0 \\\\\n",
       "\t13 & 1 & T.J. Hockenson & 20 & Bench & QUESTIONABLE & 7.05175 & 25.1 \\\\\n",
       "\t14 & 1 & David Johnson & 2 & RB & ACTIVE & 19.4111 & 25.7 \\\\\n",
       "\t15 & 1 & Brandin Cooks & 4 & WR & ACTIVE & 14.4449 & 5.9 \\\\\n",
       "\t16 & 1 & Mike Evans & 4 & WR & QUESTIONABLE & 15.9702 & 4.8 \\\\\n",
       "\t17 & 1 & Mark Ingram II & 2 & RB & ACTIVE & 14.3487 & 22.7 \\\\\n",
       "\t18 & 1 & Jameis Winston & 0 & QB & QUESTIONABLE & 18.8019 & 7.06 \\\\\n",
       "\t19 & 1 & Nyheim Hines & 20 & Bench & ACTIVE & 7.51373 & 5.7 \\\\\n",
       "\t20 & 1 & Malcolm Brown & 20 & Bench & ACTIVE & 2.47356 & 17.3 \\\\\n",
       "\t21 & 1 & KeeSean Johnson & 23 & Flex & ACTIVE & 3.87833 & 9.6 \\\\\n",
       "\t22 & 1 & Rashard Higgins & 20 & Bench & ACTIVE & 7.48444 & 6.6 \\\\\n",
       "\t23 & 1 & Alexander Mattison & 20 & Bench & ACTIVE & 3.3032 & 4.9 \\\\\n",
       "\t24 & 1 & N'Keal Harry & 21 & IR & ACTIVE & 0.0 & 0.0 \\\\\n",
       "\t25 & 1 & Kyler Murray & 20 & Bench & ACTIVE & 17.8839 & 21.62 \\\\\n",
       "\t26 & 1 & T.Y. Hilton & 23 & Flex & ACTIVE & 12.779 & 28.7 \\\\\n",
       "\t27 & 1 & Greg Olsen & 6 & TE & ACTIVE & 8.41316 & 7.6 \\\\\n",
       "\t28 & 1 & Todd Gurley II & 2 & RB & ACTIVE & 16.9792 & 11.1 \\\\\n",
       "\t29 & 1 & Keenan Allen & 4 & WR & ACTIVE & 15.9351 & 26.3 \\\\\n",
       "\t30 & 1 & Tyler Lockett & 4 & WR & ACTIVE & 12.7113 & 11.4 \\\\\n",
       "\t$\\dots$ & $\\dots$ & $\\dots$ & $\\dots$ & $\\dots$ & $\\dots$ & $\\dots$ & $\\dots$ \\\\\n",
       "\\end{tabular}\n"
      ],
      "text/plain": [
       "2577×7 DataFrame. Omitted printing of 2 columns\n",
       "│ Row  │ Week  │ Player                   │ Slot  │ Pos_FF │ Status       │\n",
       "│      │ \u001b[90mInt64\u001b[39m │ \u001b[90mString\u001b[39m                   │ \u001b[90mInt64\u001b[39m │ \u001b[90mString\u001b[39m │ \u001b[90mString\u001b[39m       │\n",
       "├──────┼───────┼──────────────────────────┼───────┼────────┼──────────────┤\n",
       "│ 1    │ 1     │ Saquon Barkley           │ 2     │ RB     │ ACTIVE       │\n",
       "│ 2    │ 1     │ Alvin Kamara             │ 2     │ RB     │ ACTIVE       │\n",
       "│ 3    │ 1     │ James White              │ 23    │ Flex   │ ACTIVE       │\n",
       "│ 4    │ 1     │ Tyler Boyd               │ 4     │ WR     │ ACTIVE       │\n",
       "│ 5    │ 1     │ Jared Goff               │ 0     │ QB     │ ACTIVE       │\n",
       "│ 6    │ 1     │ Austin Hooper            │ 6     │ TE     │ ACTIVE       │\n",
       "│ 7    │ 1     │ Marquez Valdes-Scantling │ 20    │ Bench  │ ACTIVE       │\n",
       "│ 8    │ 1     │ Jordan Howard            │ 20    │ Bench  │ QUESTIONABLE │\n",
       "│ 9    │ 1     │ Donte Moncrief           │ 23    │ Flex   │ ACTIVE       │\n",
       "│ 10   │ 1     │ Michael Gallup           │ 4     │ WR     │ ACTIVE       │\n",
       "⋮\n",
       "│ 2567 │ 16    │ Zach Ertz                │ 6     │ TE     │ QUESTIONABLE │\n",
       "│ 2568 │ 16    │ Devonta Freeman          │ 2     │ RB     │ ACTIVE       │\n",
       "│ 2569 │ 16    │ A.J. Green               │ 21    │ IR     │ QUESTIONABLE │\n",
       "│ 2570 │ 16    │ Drew Brees               │ 20    │ Bench  │ ACTIVE       │\n",
       "│ 2571 │ 16    │ Emmanuel Sanders         │ 4     │ WR     │ ACTIVE       │\n",
       "│ 2572 │ 16    │ LeSean McCoy             │ 20    │ Bench  │ ACTIVE       │\n",
       "│ 2573 │ 16    │ Austin Ekeler            │ 23    │ Flex   │ ACTIVE       │\n",
       "│ 2574 │ 16    │ Terry McLaurin           │ 20    │ Bench  │ QUESTIONABLE │\n",
       "│ 2575 │ 16    │ Jameis Winston           │ 0     │ QB     │ QUESTIONABLE │\n",
       "│ 2576 │ 16    │ David Montgomery         │ 20    │ Bench  │ ACTIVE       │\n",
       "│ 2577 │ 16    │ Randall Cobb             │ 20    │ Bench  │ ACTIVE       │"
      ]
     },
     "execution_count": 12,
     "metadata": {},
     "output_type": "execute_result"
    }
   ],
   "source": [
    "data = CSV.read(\"2019projections.csv\", DataFrame)\n",
    "select!(data, Not([:Column1, :Team]))\n",
    "rename!(data, :Pos => :Pos_FF)"
   ]
  },
  {
   "cell_type": "code",
   "execution_count": 16,
   "metadata": {},
   "outputs": [
    {
     "data": {
      "text/html": [
       "<table class=\"data-frame\"><thead><tr><th></th><th>Week</th><th>Player</th><th>Pos</th><th>team1</th><th>std_points_pred</th></tr><tr><th></th><th>Int64</th><th>String</th><th>String</th><th>String</th><th>Float64</th></tr></thead><tbody><p>4,779 rows × 5 columns</p><tr><th>1</th><td>2</td><td>Luke Falk</td><td>QB</td><td>NYJ</td><td>8.98075</td></tr><tr><th>2</th><td>14</td><td>Mark Ingram</td><td>RB</td><td>BAL</td><td>15.2686</td></tr><tr><th>3</th><td>8</td><td>Dede Westbrook</td><td>WR</td><td>JAX</td><td>4.84437</td></tr><tr><th>4</th><td>10</td><td>Josh Gordon</td><td>WR</td><td>SEA</td><td>6.25256</td></tr><tr><th>5</th><td>11</td><td>Trey Quinn</td><td>WR</td><td>WAS</td><td>2.45441</td></tr><tr><th>6</th><td>7</td><td>Lamar Jackson</td><td>QB</td><td>BAL</td><td>25.2608</td></tr><tr><th>7</th><td>15</td><td>Patrick Laird</td><td>RB</td><td>MIA</td><td>6.26433</td></tr><tr><th>8</th><td>3</td><td>Robert Woods</td><td>WR</td><td>LAR</td><td>6.80875</td></tr><tr><th>9</th><td>1</td><td>Charles Clay</td><td>TE</td><td>ARI</td><td>0.61847</td></tr><tr><th>10</th><td>5</td><td>Pharoh Cooper</td><td>WR</td><td>ARI</td><td>3.64775</td></tr><tr><th>11</th><td>9</td><td>John Brown</td><td>WR</td><td>BUF</td><td>9.88318</td></tr><tr><th>12</th><td>4</td><td>Ty Johnson</td><td>RB</td><td>DET</td><td>2.01062</td></tr><tr><th>13</th><td>17</td><td>Robert Tonyan</td><td>TE</td><td>GNB</td><td>2.65302</td></tr><tr><th>14</th><td>16</td><td>Golden Tate</td><td>WR</td><td>NYG</td><td>8.70927</td></tr><tr><th>15</th><td>4</td><td>Tom Brady</td><td>QB</td><td>NWE</td><td>18.1587</td></tr><tr><th>16</th><td>7</td><td>Patrick DiMarco</td><td>FB</td><td>BUF</td><td>1.65028</td></tr><tr><th>17</th><td>3</td><td>Todd Gurley</td><td>RB</td><td>LAR</td><td>9.46456</td></tr><tr><th>18</th><td>9</td><td>Noah Fant</td><td>TE</td><td>DEN</td><td>4.96054</td></tr><tr><th>19</th><td>10</td><td>Kaden Smith</td><td>TE</td><td>NYG</td><td>-0.13298</td></tr><tr><th>20</th><td>2</td><td>Hunter Renfrow</td><td>WR</td><td>OAK</td><td>2.03243</td></tr><tr><th>21</th><td>9</td><td>Andy Isabella</td><td>WR</td><td>ARI</td><td>5.38055</td></tr><tr><th>22</th><td>10</td><td>Isaiah McKenzie</td><td>WR</td><td>BUF</td><td>4.12217</td></tr><tr><th>23</th><td>4</td><td>Damion Ratley</td><td>WR</td><td>CLE</td><td>2.23028</td></tr><tr><th>24</th><td>17</td><td>Robert Griffin</td><td>QB</td><td>BAL</td><td>3.11728</td></tr><tr><th>25</th><td>4</td><td>Pharaoh Brown</td><td>TE</td><td>CLE</td><td>1.33871</td></tr><tr><th>26</th><td>11</td><td>Dwayne Haskins</td><td>QB</td><td>WAS</td><td>6.00753</td></tr><tr><th>27</th><td>3</td><td>Mark Andrews</td><td>TE</td><td>BAL</td><td>10.1799</td></tr><tr><th>28</th><td>4</td><td>Jack Doyle</td><td>TE</td><td>IND</td><td>4.17987</td></tr><tr><th>29</th><td>11</td><td>Jordan Akins</td><td>TE</td><td>HOU</td><td>3.23799</td></tr><tr><th>30</th><td>7</td><td>Blake Jarwin</td><td>TE</td><td>DAL</td><td>4.93538</td></tr><tr><th>&vellip;</th><td>&vellip;</td><td>&vellip;</td><td>&vellip;</td><td>&vellip;</td><td>&vellip;</td></tr></tbody></table>"
      ],
      "text/latex": [
       "\\begin{tabular}{r|ccccc}\n",
       "\t& Week & Player & Pos & team1 & std\\_points\\_pred\\\\\n",
       "\t\\hline\n",
       "\t& Int64 & String & String & String & Float64\\\\\n",
       "\t\\hline\n",
       "\t1 & 2 & Luke Falk & QB & NYJ & 8.98075 \\\\\n",
       "\t2 & 14 & Mark Ingram & RB & BAL & 15.2686 \\\\\n",
       "\t3 & 8 & Dede Westbrook & WR & JAX & 4.84437 \\\\\n",
       "\t4 & 10 & Josh Gordon & WR & SEA & 6.25256 \\\\\n",
       "\t5 & 11 & Trey Quinn & WR & WAS & 2.45441 \\\\\n",
       "\t6 & 7 & Lamar Jackson & QB & BAL & 25.2608 \\\\\n",
       "\t7 & 15 & Patrick Laird & RB & MIA & 6.26433 \\\\\n",
       "\t8 & 3 & Robert Woods & WR & LAR & 6.80875 \\\\\n",
       "\t9 & 1 & Charles Clay & TE & ARI & 0.61847 \\\\\n",
       "\t10 & 5 & Pharoh Cooper & WR & ARI & 3.64775 \\\\\n",
       "\t11 & 9 & John Brown & WR & BUF & 9.88318 \\\\\n",
       "\t12 & 4 & Ty Johnson & RB & DET & 2.01062 \\\\\n",
       "\t13 & 17 & Robert Tonyan & TE & GNB & 2.65302 \\\\\n",
       "\t14 & 16 & Golden Tate & WR & NYG & 8.70927 \\\\\n",
       "\t15 & 4 & Tom Brady & QB & NWE & 18.1587 \\\\\n",
       "\t16 & 7 & Patrick DiMarco & FB & BUF & 1.65028 \\\\\n",
       "\t17 & 3 & Todd Gurley & RB & LAR & 9.46456 \\\\\n",
       "\t18 & 9 & Noah Fant & TE & DEN & 4.96054 \\\\\n",
       "\t19 & 10 & Kaden Smith & TE & NYG & -0.13298 \\\\\n",
       "\t20 & 2 & Hunter Renfrow & WR & OAK & 2.03243 \\\\\n",
       "\t21 & 9 & Andy Isabella & WR & ARI & 5.38055 \\\\\n",
       "\t22 & 10 & Isaiah McKenzie & WR & BUF & 4.12217 \\\\\n",
       "\t23 & 4 & Damion Ratley & WR & CLE & 2.23028 \\\\\n",
       "\t24 & 17 & Robert Griffin & QB & BAL & 3.11728 \\\\\n",
       "\t25 & 4 & Pharaoh Brown & TE & CLE & 1.33871 \\\\\n",
       "\t26 & 11 & Dwayne Haskins & QB & WAS & 6.00753 \\\\\n",
       "\t27 & 3 & Mark Andrews & TE & BAL & 10.1799 \\\\\n",
       "\t28 & 4 & Jack Doyle & TE & IND & 4.17987 \\\\\n",
       "\t29 & 11 & Jordan Akins & TE & HOU & 3.23799 \\\\\n",
       "\t30 & 7 & Blake Jarwin & TE & DAL & 4.93538 \\\\\n",
       "\t$\\dots$ & $\\dots$ & $\\dots$ & $\\dots$ & $\\dots$ & $\\dots$ \\\\\n",
       "\\end{tabular}\n"
      ],
      "text/plain": [
       "4779×5 DataFrame\n",
       "│ Row  │ Week  │ Player                   │ Pos    │ team1  │ std_points_pred │\n",
       "│      │ \u001b[90mInt64\u001b[39m │ \u001b[90mString\u001b[39m                   │ \u001b[90mString\u001b[39m │ \u001b[90mString\u001b[39m │ \u001b[90mFloat64\u001b[39m         │\n",
       "├──────┼───────┼──────────────────────────┼────────┼────────┼─────────────────┤\n",
       "│ 1    │ 2     │ Luke Falk                │ QB     │ NYJ    │ 8.98075         │\n",
       "│ 2    │ 14    │ Mark Ingram              │ RB     │ BAL    │ 15.2686         │\n",
       "│ 3    │ 8     │ Dede Westbrook           │ WR     │ JAX    │ 4.84437         │\n",
       "│ 4    │ 10    │ Josh Gordon              │ WR     │ SEA    │ 6.25256         │\n",
       "│ 5    │ 11    │ Trey Quinn               │ WR     │ WAS    │ 2.45441         │\n",
       "│ 6    │ 7     │ Lamar Jackson            │ QB     │ BAL    │ 25.2608         │\n",
       "│ 7    │ 15    │ Patrick Laird            │ RB     │ MIA    │ 6.26433         │\n",
       "│ 8    │ 3     │ Robert Woods             │ WR     │ LAR    │ 6.80875         │\n",
       "│ 9    │ 1     │ Charles Clay             │ TE     │ ARI    │ 0.61847         │\n",
       "│ 10   │ 5     │ Pharoh Cooper            │ WR     │ ARI    │ 3.64775         │\n",
       "⋮\n",
       "│ 4769 │ 12    │ Justice Hill             │ RB     │ BAL    │ 1.79305         │\n",
       "│ 4770 │ 16    │ Le'Veon Bell             │ RB     │ NYJ    │ 9.8758          │\n",
       "│ 4771 │ 2     │ Trevor Siemian           │ QB     │ NYJ    │ 1.09992         │\n",
       "│ 4772 │ 16    │ Seth Roberts             │ WR     │ BAL    │ 1.94695         │\n",
       "│ 4773 │ 1     │ C.J. Uzomah              │ TE     │ CIN    │ 6.9794          │\n",
       "│ 4774 │ 17    │ Marquez Valdes-Scantling │ WR     │ GNB    │ 6.31062         │\n",
       "│ 4775 │ 1     │ Peyton Barber            │ RB     │ TAM    │ 4.18899         │\n",
       "│ 4776 │ 2     │ Teddy Bridgewater        │ QB     │ NOR    │ 7.2783          │\n",
       "│ 4777 │ 12    │ Kerrith Whyte            │ RB     │ PIT    │ 4.82688         │\n",
       "│ 4778 │ 14    │ Andrew Beck              │ FB/TE  │ DEN    │ 2.57342         │\n",
       "│ 4779 │ 6     │ D.K. Metcalf             │ WR     │ SEA    │ 7.44373         │"
      ]
     },
     "execution_count": 16,
     "metadata": {},
     "output_type": "execute_result"
    }
   ],
   "source": [
    "proj = CSV.read(\"points_proj.csv\", DataFrame)\n",
    "rename!(proj, :week => :Week)\n",
    "filter!(row -> row[:season] == 2019, proj)\n",
    "select!(proj, Not([:season]))"
   ]
  },
  {
   "cell_type": "code",
   "execution_count": 21,
   "metadata": {},
   "outputs": [
    {
     "data": {
      "text/html": [
       "<table class=\"data-frame\"><thead><tr><th></th><th>Week</th><th>Player</th><th>Pos</th><th>team1</th><th>std_points_pred</th><th>Slot</th><th>Pos_FF</th><th>Status</th></tr><tr><th></th><th>Int64</th><th>String</th><th>String</th><th>String</th><th>Float64</th><th>Int64</th><th>String</th><th>String</th></tr></thead><tbody><p>1,948 rows × 10 columns (omitted printing of 2 columns)</p><tr><th>1</th><td>1</td><td>Jarvis Landry</td><td>WR</td><td>CLE</td><td>8.76472</td><td>23</td><td>Flex</td><td>QUESTIONABLE</td></tr><tr><th>2</th><td>1</td><td>Miles Sanders</td><td>RB</td><td>PHI</td><td>1.64124</td><td>23</td><td>Flex</td><td>QUESTIONABLE</td></tr><tr><th>3</th><td>1</td><td>Adam Humphries</td><td>WR</td><td>TEN</td><td>0.8117</td><td>20</td><td>Bench</td><td>ACTIVE</td></tr><tr><th>4</th><td>1</td><td>Larry Fitzgerald</td><td>WR</td><td>ARI</td><td>19.5927</td><td>20</td><td>Bench</td><td>ACTIVE</td></tr><tr><th>5</th><td>1</td><td>Kyler Murray</td><td>QB</td><td>ARI</td><td>20.7695</td><td>20</td><td>Bench</td><td>ACTIVE</td></tr><tr><th>6</th><td>1</td><td>Mike Evans</td><td>WR</td><td>TAM</td><td>2.77435</td><td>4</td><td>WR</td><td>QUESTIONABLE</td></tr><tr><th>7</th><td>1</td><td>Mitchell Trubisky</td><td>QB</td><td>CHI</td><td>7.76606</td><td>0</td><td>QB</td><td>QUESTIONABLE</td></tr><tr><th>8</th><td>1</td><td>Tony Pollard</td><td>RB</td><td>DAL</td><td>0.991874</td><td>20</td><td>Bench</td><td>ACTIVE</td></tr><tr><th>9</th><td>1</td><td>Carson Wentz</td><td>QB</td><td>PHI</td><td>27.6934</td><td>0</td><td>QB</td><td>QUESTIONABLE</td></tr><tr><th>10</th><td>1</td><td>Greg Olsen</td><td>TE</td><td>CAR</td><td>3.18574</td><td>6</td><td>TE</td><td>ACTIVE</td></tr><tr><th>11</th><td>1</td><td>Chris Conley</td><td>WR</td><td>JAX</td><td>18.0951</td><td>20</td><td>Bench</td><td>ACTIVE</td></tr><tr><th>12</th><td>1</td><td>Delanie Walker</td><td>TE</td><td>TEN</td><td>20.3919</td><td>6</td><td>TE</td><td>QUESTIONABLE</td></tr><tr><th>13</th><td>1</td><td>Lamar Jackson</td><td>QB</td><td>BAL</td><td>38.7658</td><td>20</td><td>Bench</td><td>ACTIVE</td></tr><tr><th>14</th><td>1</td><td>Amari Cooper</td><td>WR</td><td>DAL</td><td>19.0047</td><td>4</td><td>WR</td><td>ACTIVE</td></tr><tr><th>15</th><td>1</td><td>Devin Singletary</td><td>RB</td><td>BUF</td><td>11.4874</td><td>2</td><td>RB</td><td>ACTIVE</td></tr><tr><th>16</th><td>1</td><td>Dalvin Cook</td><td>RB</td><td>MIN</td><td>27.5089</td><td>2</td><td>RB</td><td>ACTIVE</td></tr><tr><th>17</th><td>1</td><td>Justin Jackson</td><td>RB</td><td>LAC</td><td>6.77533</td><td>20</td><td>Bench</td><td>ACTIVE</td></tr><tr><th>18</th><td>1</td><td>Kirk Cousins</td><td>QB</td><td>MIN</td><td>16.7612</td><td>0</td><td>QB</td><td>ACTIVE</td></tr><tr><th>19</th><td>1</td><td>Julio Jones</td><td>WR</td><td>ATL</td><td>9.0599</td><td>4</td><td>WR</td><td>ACTIVE</td></tr><tr><th>20</th><td>1</td><td>Dante Pettis</td><td>WR</td><td>SFO</td><td>1.06952</td><td>20</td><td>Bench</td><td>ACTIVE</td></tr><tr><th>21</th><td>1</td><td>Zach Ertz</td><td>TE</td><td>PHI</td><td>5.81907</td><td>23</td><td>Flex</td><td>QUESTIONABLE</td></tr><tr><th>22</th><td>1</td><td>Kenny Stills</td><td>WR</td><td>HOU</td><td>11.142</td><td>20</td><td>Bench</td><td>ACTIVE</td></tr><tr><th>23</th><td>1</td><td>Tarik Cohen</td><td>RB</td><td>CHI</td><td>5.2449</td><td>2</td><td>RB</td><td>ACTIVE</td></tr><tr><th>24</th><td>1</td><td>T.Y. Hilton</td><td>WR</td><td>IND</td><td>22.8298</td><td>23</td><td>Flex</td><td>ACTIVE</td></tr><tr><th>25</th><td>1</td><td>Drew Brees</td><td>QB</td><td>NOR</td><td>22.5186</td><td>0</td><td>QB</td><td>ACTIVE</td></tr><tr><th>26</th><td>1</td><td>James White</td><td>RB</td><td>NWE</td><td>8.46437</td><td>23</td><td>Flex</td><td>ACTIVE</td></tr><tr><th>27</th><td>1</td><td>Carlos Hyde</td><td>RB</td><td>HOU</td><td>9.79756</td><td>20</td><td>Bench</td><td>ACTIVE</td></tr><tr><th>28</th><td>1</td><td>Courtland Sutton</td><td>WR</td><td>DEN</td><td>14.1173</td><td>20</td><td>Bench</td><td>ACTIVE</td></tr><tr><th>29</th><td>1</td><td>Austin Ekeler</td><td>RB</td><td>LAC</td><td>38.3177</td><td>23</td><td>Flex</td><td>ACTIVE</td></tr><tr><th>30</th><td>1</td><td>Tyler Lockett</td><td>WR</td><td>SEA</td><td>12.2131</td><td>4</td><td>WR</td><td>ACTIVE</td></tr><tr><th>&vellip;</th><td>&vellip;</td><td>&vellip;</td><td>&vellip;</td><td>&vellip;</td><td>&vellip;</td><td>&vellip;</td><td>&vellip;</td><td>&vellip;</td></tr></tbody></table>"
      ],
      "text/latex": [
       "\\begin{tabular}{r|ccccccccc}\n",
       "\t& Week & Player & Pos & team1 & std\\_points\\_pred & Slot & Pos\\_FF & Status & \\\\\n",
       "\t\\hline\n",
       "\t& Int64 & String & String & String & Float64 & Int64 & String & String & \\\\\n",
       "\t\\hline\n",
       "\t1 & 1 & Jarvis Landry & WR & CLE & 8.76472 & 23 & Flex & QUESTIONABLE & $\\dots$ \\\\\n",
       "\t2 & 1 & Miles Sanders & RB & PHI & 1.64124 & 23 & Flex & QUESTIONABLE & $\\dots$ \\\\\n",
       "\t3 & 1 & Adam Humphries & WR & TEN & 0.8117 & 20 & Bench & ACTIVE & $\\dots$ \\\\\n",
       "\t4 & 1 & Larry Fitzgerald & WR & ARI & 19.5927 & 20 & Bench & ACTIVE & $\\dots$ \\\\\n",
       "\t5 & 1 & Kyler Murray & QB & ARI & 20.7695 & 20 & Bench & ACTIVE & $\\dots$ \\\\\n",
       "\t6 & 1 & Mike Evans & WR & TAM & 2.77435 & 4 & WR & QUESTIONABLE & $\\dots$ \\\\\n",
       "\t7 & 1 & Mitchell Trubisky & QB & CHI & 7.76606 & 0 & QB & QUESTIONABLE & $\\dots$ \\\\\n",
       "\t8 & 1 & Tony Pollard & RB & DAL & 0.991874 & 20 & Bench & ACTIVE & $\\dots$ \\\\\n",
       "\t9 & 1 & Carson Wentz & QB & PHI & 27.6934 & 0 & QB & QUESTIONABLE & $\\dots$ \\\\\n",
       "\t10 & 1 & Greg Olsen & TE & CAR & 3.18574 & 6 & TE & ACTIVE & $\\dots$ \\\\\n",
       "\t11 & 1 & Chris Conley & WR & JAX & 18.0951 & 20 & Bench & ACTIVE & $\\dots$ \\\\\n",
       "\t12 & 1 & Delanie Walker & TE & TEN & 20.3919 & 6 & TE & QUESTIONABLE & $\\dots$ \\\\\n",
       "\t13 & 1 & Lamar Jackson & QB & BAL & 38.7658 & 20 & Bench & ACTIVE & $\\dots$ \\\\\n",
       "\t14 & 1 & Amari Cooper & WR & DAL & 19.0047 & 4 & WR & ACTIVE & $\\dots$ \\\\\n",
       "\t15 & 1 & Devin Singletary & RB & BUF & 11.4874 & 2 & RB & ACTIVE & $\\dots$ \\\\\n",
       "\t16 & 1 & Dalvin Cook & RB & MIN & 27.5089 & 2 & RB & ACTIVE & $\\dots$ \\\\\n",
       "\t17 & 1 & Justin Jackson & RB & LAC & 6.77533 & 20 & Bench & ACTIVE & $\\dots$ \\\\\n",
       "\t18 & 1 & Kirk Cousins & QB & MIN & 16.7612 & 0 & QB & ACTIVE & $\\dots$ \\\\\n",
       "\t19 & 1 & Julio Jones & WR & ATL & 9.0599 & 4 & WR & ACTIVE & $\\dots$ \\\\\n",
       "\t20 & 1 & Dante Pettis & WR & SFO & 1.06952 & 20 & Bench & ACTIVE & $\\dots$ \\\\\n",
       "\t21 & 1 & Zach Ertz & TE & PHI & 5.81907 & 23 & Flex & QUESTIONABLE & $\\dots$ \\\\\n",
       "\t22 & 1 & Kenny Stills & WR & HOU & 11.142 & 20 & Bench & ACTIVE & $\\dots$ \\\\\n",
       "\t23 & 1 & Tarik Cohen & RB & CHI & 5.2449 & 2 & RB & ACTIVE & $\\dots$ \\\\\n",
       "\t24 & 1 & T.Y. Hilton & WR & IND & 22.8298 & 23 & Flex & ACTIVE & $\\dots$ \\\\\n",
       "\t25 & 1 & Drew Brees & QB & NOR & 22.5186 & 0 & QB & ACTIVE & $\\dots$ \\\\\n",
       "\t26 & 1 & James White & RB & NWE & 8.46437 & 23 & Flex & ACTIVE & $\\dots$ \\\\\n",
       "\t27 & 1 & Carlos Hyde & RB & HOU & 9.79756 & 20 & Bench & ACTIVE & $\\dots$ \\\\\n",
       "\t28 & 1 & Courtland Sutton & WR & DEN & 14.1173 & 20 & Bench & ACTIVE & $\\dots$ \\\\\n",
       "\t29 & 1 & Austin Ekeler & RB & LAC & 38.3177 & 23 & Flex & ACTIVE & $\\dots$ \\\\\n",
       "\t30 & 1 & Tyler Lockett & WR & SEA & 12.2131 & 4 & WR & ACTIVE & $\\dots$ \\\\\n",
       "\t$\\dots$ & $\\dots$ & $\\dots$ & $\\dots$ & $\\dots$ & $\\dots$ & $\\dots$ & $\\dots$ & $\\dots$ &  \\\\\n",
       "\\end{tabular}\n"
      ],
      "text/plain": [
       "1948×10 DataFrame. Omitted printing of 4 columns\n",
       "│ Row  │ Week  │ Player            │ Pos    │ team1  │ std_points_pred │ Slot  │\n",
       "│      │ \u001b[90mInt64\u001b[39m │ \u001b[90mString\u001b[39m            │ \u001b[90mString\u001b[39m │ \u001b[90mString\u001b[39m │ \u001b[90mFloat64\u001b[39m         │ \u001b[90mInt64\u001b[39m │\n",
       "├──────┼───────┼───────────────────┼────────┼────────┼─────────────────┼───────┤\n",
       "│ 1    │ 1     │ Jarvis Landry     │ WR     │ CLE    │ 8.76472         │ 23    │\n",
       "│ 2    │ 1     │ Miles Sanders     │ RB     │ PHI    │ 1.64124         │ 23    │\n",
       "│ 3    │ 1     │ Adam Humphries    │ WR     │ TEN    │ 0.8117          │ 20    │\n",
       "│ 4    │ 1     │ Larry Fitzgerald  │ WR     │ ARI    │ 19.5927         │ 20    │\n",
       "│ 5    │ 1     │ Kyler Murray      │ QB     │ ARI    │ 20.7695         │ 20    │\n",
       "│ 6    │ 1     │ Mike Evans        │ WR     │ TAM    │ 2.77435         │ 4     │\n",
       "│ 7    │ 1     │ Mitchell Trubisky │ QB     │ CHI    │ 7.76606         │ 0     │\n",
       "│ 8    │ 1     │ Tony Pollard      │ RB     │ DAL    │ 0.991874        │ 20    │\n",
       "│ 9    │ 1     │ Carson Wentz      │ QB     │ PHI    │ 27.6934         │ 0     │\n",
       "│ 10   │ 1     │ Greg Olsen        │ TE     │ CAR    │ 3.18574         │ 6     │\n",
       "⋮\n",
       "│ 1938 │ 16    │ Amari Cooper      │ WR     │ DAL    │ 13.0132         │ 4     │\n",
       "│ 1939 │ 16    │ Tony Pollard      │ RB     │ DAL    │ 3.74105         │ 20    │\n",
       "│ 1940 │ 16    │ Mike Boone        │ RB     │ MIN    │ 4.98214         │ 23    │\n",
       "│ 1941 │ 16    │ Michael Gallup    │ WR     │ DAL    │ 10.7703         │ 20    │\n",
       "│ 1942 │ 16    │ Dak Prescott      │ QB     │ DAL    │ 20.956          │ 0     │\n",
       "│ 1943 │ 16    │ Davante Adams     │ WR     │ GNB    │ 8.74482         │ 4     │\n",
       "│ 1944 │ 16    │ Lamar Jackson     │ QB     │ BAL    │ 26.5143         │ 0     │\n",
       "│ 1945 │ 16    │ Phillip Lindsay   │ RB     │ DEN    │ 11.4886         │ 2     │\n",
       "│ 1946 │ 16    │ Sammy Watkins     │ WR     │ KAN    │ 7.38291         │ 20    │\n",
       "│ 1947 │ 16    │ Carlos Hyde       │ RB     │ HOU    │ 9.24954         │ 20    │\n",
       "│ 1948 │ 16    │ Le'Veon Bell      │ RB     │ NYJ    │ 9.8758          │ 2     │"
      ]
     },
     "execution_count": 21,
     "metadata": {},
     "output_type": "execute_result"
    }
   ],
   "source": [
    "season = sort!(innerjoin(proj, data, on = [:Player, :Week]), (:Week))"
   ]
  },
  {
   "cell_type": "markdown",
   "metadata": {},
   "source": [
    "Ideas to try\n",
    "* Have one team for the whole season\n",
    "* Comparison by week"
   ]
  }
 ],
 "metadata": {
  "kernelspec": {
   "display_name": "Julia 1.5.1",
   "language": "julia",
   "name": "julia-1.5"
  },
  "language_info": {
   "file_extension": ".jl",
   "mimetype": "application/julia",
   "name": "julia",
   "version": "1.5.1"
  }
 },
 "nbformat": 4,
 "nbformat_minor": 4
}
