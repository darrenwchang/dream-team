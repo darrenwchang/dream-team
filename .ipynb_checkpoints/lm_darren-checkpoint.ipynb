{
 "cells": [
  {
   "cell_type": "markdown",
   "metadata": {},
   "source": [
    "# Linear Models\n",
    "## Dream Team - ORIE 4741 Project\n",
    "### Darren Chang"
   ]
  },
  {
   "cell_type": "code",
   "execution_count": 1,
   "metadata": {},
   "outputs": [],
   "source": [
    "using CSV, Plots, DataFrames, Statistics, LinearAlgebra, GLM"
   ]
  },
  {
   "cell_type": "code",
   "execution_count": 4,
   "metadata": {
    "scrolled": true
   },
   "outputs": [
    {
     "name": "stdout",
     "output_type": "stream",
     "text": [
      "1\tweek\t\t\tInt64\n",
      "2\tPlayer\t\t\tString\n",
      "3\tPos\t\t\tString\n",
      "4\tteam1\t\t\tString\n",
      "5\tPassingYds\t\t\tInt64\n",
      "6\tPassingTD\t\t\tInt64\n",
      "7\tInt\t\t\tInt64\n",
      "8\tPassingAtt\t\t\tInt64\n",
      "9\tCmp\t\t\tInt64\n",
      "10\tRushingAtt\t\t\tInt64\n",
      "11\tRushingYds\t\t\tInt64\n",
      "12\tRushingTD\t\t\tInt64\n",
      "13\tRec\t\t\tInt64\n",
      "14\tTgt\t\t\tInt64\n",
      "15\tReceivingYds\t\t\tInt64\n",
      "16\tReceivingTD\t\t\tInt64\n",
      "17\tFL\t\t\tInt64\n",
      "18\tPPRFantasyPoints\t\t\tFloat64\n",
      "19\tStandardFantasyPoints\t\t\tFloat64\n",
      "20\tHalfPPRFantasyPoints\t\t\tFloat64\n",
      "21\ttype\t\t\tString\n",
      "22\tgame_id\t\t\tString\n",
      "23\tteam2\t\t\tString\n",
      "24\tseason\t\t\tString\n",
      "25\tteam1_score\t\t\tInt64\n",
      "26\tteam2_score\t\t\tInt64\n",
      "27\tPassingYds_cum\t\t\tFloat64\n",
      "28\tPassingTD_cum\t\t\tFloat64\n",
      "29\tInt_cum\t\t\tFloat64\n",
      "30\tPassingAtt_cum\t\t\tFloat64\n",
      "31\tCmp_cum\t\t\tFloat64\n",
      "32\tRushingAtt_cum\t\t\tFloat64\n",
      "33\tRushingYds_cum\t\t\tFloat64\n",
      "34\tRushingTD_cum\t\t\tFloat64\n",
      "35\tRec_cum\t\t\tFloat64\n",
      "36\tTgt_cum\t\t\tFloat64\n",
      "37\tReceivingYds_cum\t\t\tFloat64\n",
      "38\tReceivingTD_cum\t\t\tFloat64\n",
      "39\tFL_cum\t\t\tFloat64\n",
      "40\tteam1_score_cum\t\t\tFloat64\n",
      "41\tteam2_score_cum\t\t\tFloat64\n",
      "42\tPassingYds_prev\t\t\tInt64\n",
      "43\tPassingTD_prev\t\t\tInt64\n",
      "44\tInt_prev\t\t\tInt64\n",
      "45\tPassingAtt_prev\t\t\tInt64\n",
      "46\tCmp_prev\t\t\tInt64\n",
      "47\tRushingAtt_prev\t\t\tInt64\n",
      "48\tRushingYds_prev\t\t\tInt64\n",
      "49\tRushingTD_prev\t\t\tInt64\n",
      "50\tRec_prev\t\t\tInt64\n",
      "51\tTgt_prev\t\t\tInt64\n",
      "52\tReceivingYds_prev\t\t\tInt64\n",
      "53\tReceivingTD_prev\t\t\tInt64\n",
      "54\tFL_prev\t\t\tInt64\n",
      "55\tteam1_score_prev\t\t\tInt64\n",
      "56\tteam2_score_prev\t\t\tInt64\n"
     ]
    }
   ],
   "source": [
    "df = CSV.read(\"weekly_ff.csv\")\n",
    "\n",
    "feature_names = names(df)\n",
    "for i in 1:56\n",
    "    println(string(i), \"\\t\", string(feature_names[i]), \"\\t\\t\\t\", string(eltype(df[!, i])))\n",
    "end"
   ]
  },
  {
   "cell_type": "code",
   "execution_count": 6,
   "metadata": {
    "scrolled": true
   },
   "outputs": [
    {
     "data": {
      "text/plain": [
       "string_to_float (generic function with 1 method)"
      ]
     },
     "execution_count": 6,
     "metadata": {},
     "output_type": "execute_result"
    }
   ],
   "source": [
    "function string_to_float(str)\n",
    "    try\n",
    "        parse(Float64, str)\n",
    "    catch\n",
    "       0.0\n",
    "    end\n",
    "end"
   ]
  },
  {
   "cell_type": "code",
   "execution_count": 11,
   "metadata": {},
   "outputs": [
    {
     "data": {
      "text/html": [
       "<table class=\"data-frame\"><thead><tr><th></th><th>PassingYds_cum</th><th>PassingTD_cum</th><th>Int_cum</th><th>PassingAtt_cum</th><th>Cmp_cum</th><th>RushingAtt_cum</th></tr><tr><th></th><th>Float64</th><th>Float64</th><th>Float64</th><th>Float64</th><th>Float64</th><th>Float64</th></tr></thead><tbody><p>4,779 rows × 30 columns (omitted printing of 24 columns)</p><tr><th>1</th><td>324.0</td><td>5.0</td><td>0.0</td><td>20.0</td><td>17.0</td><td>3.0</td></tr><tr><th>2</th><td>405.0</td><td>4.0</td><td>0.0</td><td>32.0</td><td>25.0</td><td>4.0</td></tr><tr><th>3</th><td>55.0</td><td>1.0</td><td>0.0</td><td>6.0</td><td>6.0</td><td>4.0</td></tr><tr><th>4</th><td>378.0</td><td>3.0</td><td>0.0</td><td>33.0</td><td>25.0</td><td>1.0</td></tr><tr><th>5</th><td>98.0</td><td>1.0</td><td>0.0</td><td>10.0</td><td>8.0</td><td>6.0</td></tr><tr><th>6</th><td>195.0</td><td>2.0</td><td>0.0</td><td>20.0</td><td>14.0</td><td>4.0</td></tr><tr><th>7</th><td>248.0</td><td>3.0</td><td>0.0</td><td>24.0</td><td>14.0</td><td>3.0</td></tr><tr><th>8</th><td>75.0</td><td>1.0</td><td>0.0</td><td>8.0</td><td>5.0</td><td>0.0</td></tr><tr><th>9</th><td>341.0</td><td>3.0</td><td>0.0</td><td>36.0</td><td>24.0</td><td>0.0</td></tr><tr><th>10</th><td>275.0</td><td>2.0</td><td>1.0</td><td>25.0</td><td>22.0</td><td>1.0</td></tr><tr><th>11</th><td>333.0</td><td>3.0</td><td>1.0</td><td>34.0</td><td>25.0</td><td>1.0</td></tr><tr><th>12</th><td>259.0</td><td>1.0</td><td>0.0</td><td>26.0</td><td>22.0</td><td>2.0</td></tr><tr><th>13</th><td>313.0</td><td>3.0</td><td>0.0</td><td>39.0</td><td>28.0</td><td>4.0</td></tr><tr><th>14</th><td>190.0</td><td>2.0</td><td>0.0</td><td>27.0</td><td>21.0</td><td>3.0</td></tr><tr><th>15</th><td>32.0</td><td>0.0</td><td>0.0</td><td>1.0</td><td>1.0</td><td>1.0</td></tr><tr><th>16</th><td>380.0</td><td>3.0</td><td>0.0</td><td>44.0</td><td>30.0</td><td>0.0</td></tr><tr><th>17</th><td>268.0</td><td>3.0</td><td>1.0</td><td>30.0</td><td>20.0</td><td>4.0</td></tr><tr><th>18</th><td>385.0</td><td>3.0</td><td>0.0</td><td>45.0</td><td>27.0</td><td>3.0</td></tr><tr><th>19</th><td>418.0</td><td>2.0</td><td>0.0</td><td>51.0</td><td>35.0</td><td>0.0</td></tr><tr><th>20</th><td>370.0</td><td>2.0</td><td>1.0</td><td>43.0</td><td>32.0</td><td>0.0</td></tr><tr><th>21</th><td>268.0</td><td>1.0</td><td>0.0</td><td>31.0</td><td>21.0</td><td>1.0</td></tr><tr><th>22</th><td>306.0</td><td>1.0</td><td>0.0</td><td>44.0</td><td>30.0</td><td>1.0</td></tr><tr><th>23</th><td>203.0</td><td>1.0</td><td>0.0</td><td>30.0</td><td>18.0</td><td>3.0</td></tr><tr><th>24</th><td>304.0</td><td>2.0</td><td>2.0</td><td>46.0</td><td>33.0</td><td>2.0</td></tr><tr><th>25</th><td>175.0</td><td>1.0</td><td>0.0</td><td>41.0</td><td>28.0</td><td>1.0</td></tr><tr><th>26</th><td>17.0</td><td>0.0</td><td>0.0</td><td>4.0</td><td>3.0</td><td>1.0</td></tr><tr><th>27</th><td>166.0</td><td>1.0</td><td>1.0</td><td>27.0</td><td>18.0</td><td>2.0</td></tr><tr><th>28</th><td>308.0</td><td>2.0</td><td>1.0</td><td>54.0</td><td>29.0</td><td>3.0</td></tr><tr><th>29</th><td>239.0</td><td>0.0</td><td>1.0</td><td>38.0</td><td>25.0</td><td>3.0</td></tr><tr><th>30</th><td>254.0</td><td>1.0</td><td>2.0</td><td>37.0</td><td>24.0</td><td>10.0</td></tr><tr><th>&vellip;</th><td>&vellip;</td><td>&vellip;</td><td>&vellip;</td><td>&vellip;</td><td>&vellip;</td><td>&vellip;</td></tr></tbody></table>"
      ],
      "text/latex": [
       "\\begin{tabular}{r|ccccccc}\n",
       "\t& PassingYds\\_cum & PassingTD\\_cum & Int\\_cum & PassingAtt\\_cum & Cmp\\_cum & RushingAtt\\_cum & \\\\\n",
       "\t\\hline\n",
       "\t& Float64 & Float64 & Float64 & Float64 & Float64 & Float64 & \\\\\n",
       "\t\\hline\n",
       "\t1 & 324.0 & 5.0 & 0.0 & 20.0 & 17.0 & 3.0 & $\\dots$ \\\\\n",
       "\t2 & 405.0 & 4.0 & 0.0 & 32.0 & 25.0 & 4.0 & $\\dots$ \\\\\n",
       "\t3 & 55.0 & 1.0 & 0.0 & 6.0 & 6.0 & 4.0 & $\\dots$ \\\\\n",
       "\t4 & 378.0 & 3.0 & 0.0 & 33.0 & 25.0 & 1.0 & $\\dots$ \\\\\n",
       "\t5 & 98.0 & 1.0 & 0.0 & 10.0 & 8.0 & 6.0 & $\\dots$ \\\\\n",
       "\t6 & 195.0 & 2.0 & 0.0 & 20.0 & 14.0 & 4.0 & $\\dots$ \\\\\n",
       "\t7 & 248.0 & 3.0 & 0.0 & 24.0 & 14.0 & 3.0 & $\\dots$ \\\\\n",
       "\t8 & 75.0 & 1.0 & 0.0 & 8.0 & 5.0 & 0.0 & $\\dots$ \\\\\n",
       "\t9 & 341.0 & 3.0 & 0.0 & 36.0 & 24.0 & 0.0 & $\\dots$ \\\\\n",
       "\t10 & 275.0 & 2.0 & 1.0 & 25.0 & 22.0 & 1.0 & $\\dots$ \\\\\n",
       "\t11 & 333.0 & 3.0 & 1.0 & 34.0 & 25.0 & 1.0 & $\\dots$ \\\\\n",
       "\t12 & 259.0 & 1.0 & 0.0 & 26.0 & 22.0 & 2.0 & $\\dots$ \\\\\n",
       "\t13 & 313.0 & 3.0 & 0.0 & 39.0 & 28.0 & 4.0 & $\\dots$ \\\\\n",
       "\t14 & 190.0 & 2.0 & 0.0 & 27.0 & 21.0 & 3.0 & $\\dots$ \\\\\n",
       "\t15 & 32.0 & 0.0 & 0.0 & 1.0 & 1.0 & 1.0 & $\\dots$ \\\\\n",
       "\t16 & 380.0 & 3.0 & 0.0 & 44.0 & 30.0 & 0.0 & $\\dots$ \\\\\n",
       "\t17 & 268.0 & 3.0 & 1.0 & 30.0 & 20.0 & 4.0 & $\\dots$ \\\\\n",
       "\t18 & 385.0 & 3.0 & 0.0 & 45.0 & 27.0 & 3.0 & $\\dots$ \\\\\n",
       "\t19 & 418.0 & 2.0 & 0.0 & 51.0 & 35.0 & 0.0 & $\\dots$ \\\\\n",
       "\t20 & 370.0 & 2.0 & 1.0 & 43.0 & 32.0 & 0.0 & $\\dots$ \\\\\n",
       "\t21 & 268.0 & 1.0 & 0.0 & 31.0 & 21.0 & 1.0 & $\\dots$ \\\\\n",
       "\t22 & 306.0 & 1.0 & 0.0 & 44.0 & 30.0 & 1.0 & $\\dots$ \\\\\n",
       "\t23 & 203.0 & 1.0 & 0.0 & 30.0 & 18.0 & 3.0 & $\\dots$ \\\\\n",
       "\t24 & 304.0 & 2.0 & 2.0 & 46.0 & 33.0 & 2.0 & $\\dots$ \\\\\n",
       "\t25 & 175.0 & 1.0 & 0.0 & 41.0 & 28.0 & 1.0 & $\\dots$ \\\\\n",
       "\t26 & 17.0 & 0.0 & 0.0 & 4.0 & 3.0 & 1.0 & $\\dots$ \\\\\n",
       "\t27 & 166.0 & 1.0 & 1.0 & 27.0 & 18.0 & 2.0 & $\\dots$ \\\\\n",
       "\t28 & 308.0 & 2.0 & 1.0 & 54.0 & 29.0 & 3.0 & $\\dots$ \\\\\n",
       "\t29 & 239.0 & 0.0 & 1.0 & 38.0 & 25.0 & 3.0 & $\\dots$ \\\\\n",
       "\t30 & 254.0 & 1.0 & 2.0 & 37.0 & 24.0 & 10.0 & $\\dots$ \\\\\n",
       "\t$\\dots$ & $\\dots$ & $\\dots$ & $\\dots$ & $\\dots$ & $\\dots$ & $\\dots$ &  \\\\\n",
       "\\end{tabular}\n"
      ],
      "text/plain": [
       "4779×30 DataFrame. Omitted printing of 25 columns\n",
       "│ Row  │ PassingYds_cum │ PassingTD_cum │ Int_cum │ PassingAtt_cum │ Cmp_cum  │\n",
       "│      │ \u001b[90mFloat64\u001b[39m        │ \u001b[90mFloat64\u001b[39m       │ \u001b[90mFloat64\u001b[39m │ \u001b[90mFloat64\u001b[39m        │ \u001b[90mFloat64\u001b[39m  │\n",
       "├──────┼────────────────┼───────────────┼─────────┼────────────────┼──────────┤\n",
       "│ 1    │ 324.0          │ 5.0           │ 0.0     │ 20.0           │ 17.0     │\n",
       "│ 2    │ 405.0          │ 4.0           │ 0.0     │ 32.0           │ 25.0     │\n",
       "│ 3    │ 55.0           │ 1.0           │ 0.0     │ 6.0            │ 6.0      │\n",
       "│ 4    │ 378.0          │ 3.0           │ 0.0     │ 33.0           │ 25.0     │\n",
       "│ 5    │ 98.0           │ 1.0           │ 0.0     │ 10.0           │ 8.0      │\n",
       "│ 6    │ 195.0          │ 2.0           │ 0.0     │ 20.0           │ 14.0     │\n",
       "│ 7    │ 248.0          │ 3.0           │ 0.0     │ 24.0           │ 14.0     │\n",
       "│ 8    │ 75.0           │ 1.0           │ 0.0     │ 8.0            │ 5.0      │\n",
       "│ 9    │ 341.0          │ 3.0           │ 0.0     │ 36.0           │ 24.0     │\n",
       "│ 10   │ 275.0          │ 2.0           │ 1.0     │ 25.0           │ 22.0     │\n",
       "⋮\n",
       "│ 4769 │ 0.0            │ 0.0           │ 0.0     │ 0.0            │ 0.0      │\n",
       "│ 4770 │ 0.0            │ 0.0           │ 0.0     │ 0.0            │ 0.0      │\n",
       "│ 4771 │ 0.0            │ 0.0           │ 0.0     │ 0.0            │ 0.0      │\n",
       "│ 4772 │ 0.0            │ 0.0           │ 0.0     │ 0.0            │ 0.0      │\n",
       "│ 4773 │ 0.0            │ 0.0           │ 0.0     │ 0.0            │ 0.0      │\n",
       "│ 4774 │ 0.0            │ 0.0           │ 0.0     │ 0.0            │ 0.0      │\n",
       "│ 4775 │ 5.33333        │ 0.0           │ 0.0     │ 0.666667       │ 0.666667 │\n",
       "│ 4776 │ 0.0            │ 0.0           │ 0.0     │ 0.0            │ 0.0      │\n",
       "│ 4777 │ 0.0            │ 0.0           │ 0.0     │ 0.0            │ 0.0      │\n",
       "│ 4778 │ 0.0            │ 0.0           │ 0.0     │ 0.0            │ 0.0      │\n",
       "│ 4779 │ 0.0            │ 0.0           │ 0.0     │ 0.0            │ 0.0      │"
      ]
     },
     "execution_count": 11,
     "metadata": {},
     "output_type": "execute_result"
    }
   ],
   "source": [
    "labels_real = [\n",
    "    :PassingYds_cum,\n",
    "    :PassingTD_cum,\n",
    "    :Int_cum,\n",
    "    :PassingAtt_cum,\n",
    "    :Cmp_cum,\n",
    "    :RushingAtt_cum,\n",
    "    :RushingYds_cum,\n",
    "    :RushingTD_cum,\n",
    "    :Rec_cum,\n",
    "    :Tgt_cum,\n",
    "    :ReceivingYds_cum,\n",
    "    :ReceivingTD_cum,\n",
    "    :FL_cum,\n",
    "    :team1_score_cum,\n",
    "    :team2_score_cum,\n",
    "    :PassingYds_prev,\n",
    "    :PassingTD_prev,\n",
    "    :Int_prev,\n",
    "    :PassingAtt_prev,\n",
    "    :Cmp_prev,\n",
    "    :RushingAtt_prev,\n",
    "    :RushingYds_prev,\n",
    "    :RushingTD_prev,\n",
    "    :Rec_prev,\n",
    "    :Tgt_prev,\n",
    "    :ReceivingYds_prev,\n",
    "    :ReceivingTD_prev,\n",
    "    :FL_prev,\n",
    "    :team1_score_prev,\n",
    "    :team2_score_prev \n",
    "]\n",
    "\n",
    "df_real = df[labels_real]"
   ]
  },
  {
   "cell_type": "code",
   "execution_count": 14,
   "metadata": {
    "scrolled": true
   },
   "outputs": [
    {
     "data": {
      "text/plain": [
       "4779×96 Array{Float64,2}:\n",
       " 1.0  0.0  0.0  0.0  0.0  0.0  0.0  0.0  …  0.0  0.0  0.0  0.0  0.0  0.0  0.0\n",
       " 0.0  1.0  0.0  0.0  0.0  0.0  0.0  0.0     0.0  0.0  0.0  0.0  0.0  0.0  0.0\n",
       " 1.0  0.0  0.0  0.0  0.0  0.0  0.0  0.0     0.0  0.0  0.0  0.0  0.0  0.0  0.0\n",
       " 0.0  0.0  1.0  0.0  0.0  0.0  0.0  0.0     0.0  0.0  0.0  0.0  0.0  0.0  0.0\n",
       " 0.0  0.0  0.0  1.0  0.0  0.0  0.0  0.0     0.0  0.0  0.0  0.0  0.0  0.0  0.0\n",
       " 0.0  0.0  0.0  0.0  1.0  0.0  0.0  0.0  …  0.0  0.0  0.0  0.0  0.0  0.0  0.0\n",
       " 0.0  0.0  0.0  0.0  0.0  1.0  0.0  0.0     0.0  0.0  0.0  0.0  0.0  0.0  0.0\n",
       " 0.0  0.0  0.0  0.0  0.0  0.0  1.0  0.0     0.0  0.0  0.0  0.0  0.0  0.0  0.0\n",
       " 0.0  0.0  0.0  0.0  0.0  0.0  0.0  1.0     0.0  0.0  0.0  0.0  0.0  0.0  0.0\n",
       " 0.0  0.0  0.0  0.0  0.0  0.0  1.0  0.0     0.0  0.0  0.0  0.0  0.0  0.0  0.0\n",
       " 0.0  0.0  0.0  0.0  0.0  0.0  0.0  0.0  …  0.0  0.0  0.0  0.0  0.0  0.0  0.0\n",
       " 0.0  0.0  0.0  0.0  0.0  0.0  0.0  0.0     0.0  0.0  0.0  0.0  0.0  0.0  0.0\n",
       " 0.0  0.0  0.0  0.0  0.0  0.0  0.0  0.0     0.0  0.0  0.0  0.0  0.0  0.0  0.0\n",
       " ⋮                        ⋮              ⋱       ⋮                        ⋮\n",
       " 0.0  0.0  0.0  0.0  0.0  0.0  0.0  0.0     0.0  0.0  0.0  0.0  0.0  0.0  0.0\n",
       " 0.0  0.0  1.0  0.0  0.0  0.0  0.0  0.0     0.0  0.0  1.0  0.0  0.0  0.0  0.0\n",
       " 0.0  0.0  0.0  0.0  0.0  0.0  0.0  0.0     0.0  0.0  0.0  0.0  0.0  0.0  0.0\n",
       " 0.0  0.0  0.0  0.0  0.0  0.0  0.0  0.0  …  0.0  0.0  0.0  0.0  0.0  0.0  0.0\n",
       " 0.0  0.0  0.0  0.0  0.0  0.0  0.0  0.0     0.0  0.0  1.0  0.0  0.0  0.0  0.0\n",
       " 0.0  0.0  0.0  0.0  0.0  0.0  0.0  0.0     0.0  0.0  0.0  0.0  0.0  0.0  0.0\n",
       " 0.0  0.0  0.0  1.0  0.0  0.0  0.0  0.0     0.0  0.0  0.0  0.0  0.0  0.0  0.0\n",
       " 0.0  0.0  0.0  0.0  0.0  0.0  1.0  0.0     0.0  0.0  0.0  0.0  0.0  0.0  0.0\n",
       " 0.0  0.0  0.0  0.0  0.0  0.0  0.0  0.0  …  0.0  0.0  0.0  0.0  1.0  0.0  0.0\n",
       " 1.0  0.0  0.0  0.0  0.0  0.0  0.0  0.0     0.0  0.0  0.0  0.0  0.0  0.0  1.0\n",
       " 0.0  0.0  0.0  0.0  0.0  0.0  0.0  0.0     0.0  0.0  0.0  0.0  1.0  0.0  0.0\n",
       " 0.0  0.0  0.0  0.0  0.0  0.0  0.0  0.0     0.0  0.0  1.0  0.0  0.0  0.0  0.0"
      ]
     },
     "execution_count": 14,
     "metadata": {},
     "output_type": "execute_result"
    }
   ],
   "source": [
    "cat_labels = [\n",
    "  :team1,\n",
    "  :team2,\n",
    "  :Pos\n",
    "]\n",
    "\n",
    "#Sets of all categories in a particular column\n",
    "cats_sets = [unique(df[:, label]) for label in cat_labels]\n",
    "\n",
    "\"Computes a onehot vector for every entry in column given a set of categories cats\"\n",
    "function onehot(column, cats=unique(column))\n",
    "    len = length(column)\n",
    "    len_val = length(cats)\n",
    "    result = zeros(len, len_val)\n",
    "    \n",
    "    for i=1:len\n",
    "        string=column[i]\n",
    "        for j=1:len_val\n",
    "            if contains(string, cats[j])\n",
    "                result[i,j]=1\n",
    "            end\n",
    "        end\n",
    "    end\n",
    "    result\n",
    "end\n",
    "\n",
    "# [onehot(train_x[:, cat_labels[i]], cats_sets[i]) for i in 1:size(cat_labels, 1)]\n",
    "\n",
    "train_cat_vals = hcat([onehot(df[:, cat_labels[i]], cats_sets[i]) for i in 1:size(cat_labels, 1)]...)"
   ]
  },
  {
   "cell_type": "code",
   "execution_count": 18,
   "metadata": {},
   "outputs": [
    {
     "data": {
      "text/plain": [
       "4779-element Array{Float64,1}:\n",
       " 33.56\n",
       " 33.400000000000006\n",
       "  7.1000000000000005\n",
       " 27.319999999999997\n",
       " 14.32\n",
       " 16.6\n",
       " 24.32\n",
       "  7.0\n",
       " 25.64\n",
       " 17.6\n",
       " 23.92\n",
       " 14.56\n",
       " 25.02\n",
       "  ⋮\n",
       "  0.3\n",
       "  0.2\n",
       "  0.2\n",
       "  0.2\n",
       "  6.1\n",
       " -2.0\n",
       "  0.0\n",
       "  0.0\n",
       "  0.0\n",
       " -2.0\n",
       "  0.0\n",
       " -2.0"
      ]
     },
     "execution_count": 18,
     "metadata": {},
     "output_type": "execute_result"
    }
   ],
   "source": [
    "Xtrain = replace(hcat(convert(Matrix, df_real), train_cat_vals, ones(nrow(df_real))), NaN=>0)\n",
    "train_y = df[:StandardFantasyPoints]"
   ]
  },
  {
   "cell_type": "code",
   "execution_count": 21,
   "metadata": {},
   "outputs": [
    {
     "data": {
      "text/plain": [
       "MSE"
      ]
     },
     "execution_count": 21,
     "metadata": {},
     "output_type": "execute_result"
    }
   ],
   "source": [
    "\"\"\"This function just computes the mean squared error.\"\"\"\n",
    "function MSE(y, pred)\n",
    "    error = (y.-pred).^2\n",
    "    mse = sum(error[:, 1])/size(error, 1)\n",
    "    return mse\n",
    "end"
   ]
  },
  {
   "cell_type": "code",
   "execution_count": 22,
   "metadata": {},
   "outputs": [
    {
     "data": {
      "text/plain": [
       "20.893866912635154"
      ]
     },
     "execution_count": 22,
     "metadata": {},
     "output_type": "execute_result"
    }
   ],
   "source": [
    "w = Xtrain \\ train_y\n",
    "train_pred = sum(w'.*Xtrain, dims = 2)\n",
    "train_MSE = MSE(train_y, train_pred)\n"
   ]
  }
 ],
 "metadata": {
  "kernelspec": {
   "display_name": "Julia 1.5.1",
   "language": "julia",
   "name": "julia-1.5"
  },
  "language_info": {
   "file_extension": ".jl",
   "mimetype": "application/julia",
   "name": "julia",
   "version": "1.5.1"
  }
 },
 "nbformat": 4,
 "nbformat_minor": 4
}
