{
 "cells": [
  {
   "cell_type": "markdown",
   "metadata": {},
   "source": [
    "## sklearn and complex methods\n",
    "### Dream Team"
   ]
  },
  {
   "cell_type": "code",
   "execution_count": null,
   "metadata": {},
   "outputs": [],
   "source": [
    "using CSV, Plots, DataFrames, Statistics, LinearAlgebra, GLM, LowRankModels\n",
    "include(\"proxgrad.jl\") "
   ]
  },
  {
   "cell_type": "markdown",
   "metadata": {},
   "source": [
    "## Quantile Regression"
   ]
  },
  {
   "cell_type": "code",
   "execution_count": null,
   "metadata": {},
   "outputs": [],
   "source": [
    "# loss function\n",
    "α = 0\n",
    "loss = QuantileLoss(α)\n",
    "k = 5\n",
    "\n",
    "# regularization function\n",
    "λ = 0.1\n",
    "reg = QuadReg(λ)\n",
    "Ω = train_std\n",
    "Y = Xtrain_glm2;"
   ]
  },
  {
   "cell_type": "code",
   "execution_count": null,
   "metadata": {},
   "outputs": [],
   "source": [
    "glrm_quant = GLRM(Y, loss, reg, reg, k)"
   ]
  },
  {
   "cell_type": "code",
   "execution_count": null,
   "metadata": {},
   "outputs": [],
   "source": [
    "X,W,ch = fit!(glrm_quant)"
   ]
  },
  {
   "cell_type": "code",
   "execution_count": null,
   "metadata": {},
   "outputs": [],
   "source": [
    "X,W,ch = fit!(glrm_quant) # having trouble with this one"
   ]
  },
  {
   "cell_type": "markdown",
   "metadata": {},
   "source": [
    "## Proxgrad.jl"
   ]
  },
  {
   "cell_type": "code",
   "execution_count": null,
   "metadata": {},
   "outputs": [],
   "source": [
    "# loss function\n",
    "loss = QuantileLoss(0.01)\n",
    "\n",
    "# regularization function\n",
    "reg = QuadReg(0.1)\n",
    "b = proxgrad(loss, reg, Xtrain_glm2, train_std, maxiters = 10, stepsize=.01)\n",
    "\n",
    "norm(Xtrain_glm2*b-train_std) / norm(train_std)"
   ]
  }
 ],
 "metadata": {
  "kernelspec": {
   "display_name": "Python 3",
   "language": "python",
   "name": "python3"
  },
  "language_info": {
   "codemirror_mode": {
    "name": "ipython",
    "version": 3
   },
   "file_extension": ".py",
   "mimetype": "text/x-python",
   "name": "python",
   "nbconvert_exporter": "python",
   "pygments_lexer": "ipython3",
   "version": "3.7.6"
  }
 },
 "nbformat": 4,
 "nbformat_minor": 4
}
