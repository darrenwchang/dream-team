{
 "cells": [
  {
   "cell_type": "markdown",
   "metadata": {},
   "source": [
    "# Scikit learn for cross-validating OLS\n",
    "## Dream Team - ORIE 4741 Project"
   ]
  },
  {
   "cell_type": "code",
   "execution_count": 4,
   "metadata": {
    "scrolled": true
   },
   "outputs": [
    {
     "name": "stdout",
     "output_type": "stream",
     "text": [
      "\u001b[32m\u001b[1mStatus\u001b[22m\u001b[39m `C:\\Users\\darre\\.julia\\environments\\v1.5\\Project.toml`\n",
      " \u001b[90m [336ed68f] \u001b[39m\u001b[37mCSV v0.7.7 `https://github.com/JuliaData/CSV.jl#master`\u001b[39m\n",
      " \u001b[90m [5d742f6a] \u001b[39m\u001b[37mCSVFiles v1.0.0\u001b[39m\n",
      " \u001b[90m [a93c6f00] \u001b[39m\u001b[37mDataFrames v0.21.7 `https://github.com/JuliaData/DataFrames.jl#master`\u001b[39m\n",
      " \u001b[90m [31c24e10] \u001b[39m\u001b[37mDistributions v0.23.8\u001b[39m\n",
      " \u001b[90m [587475ba] \u001b[39m\u001b[37mFlux v0.11.1\u001b[39m\n",
      " \u001b[90m [38e38edf] \u001b[39m\u001b[37mGLM v1.3.11\u001b[39m\n",
      " \u001b[90m [c91e804a] \u001b[39m\u001b[37mGadfly v1.3.1\u001b[39m\n",
      " \u001b[90m [7073ff75] \u001b[39m\u001b[37mIJulia v1.22.0\u001b[39m\n",
      " \u001b[90m [b964fa9f] \u001b[39m\u001b[37mLaTeXStrings v1.2.0\u001b[39m\n",
      " \u001b[90m [b4fcebef] \u001b[39m\u001b[37mLasso v0.5.2\u001b[39m\n",
      " \u001b[90m [21d151f5] \u001b[39m\u001b[37mLassoPlot v1.1.0\u001b[39m\n",
      " \u001b[90m [f0e99cf1] \u001b[39m\u001b[37mMLBase v0.8.0\u001b[39m\n",
      " \u001b[90m [91a5bcdd] \u001b[39m\u001b[37mPlots v1.7.3\u001b[39m\n",
      " \u001b[90m [438e738f] \u001b[39m\u001b[37mPyCall v1.92.1\u001b[39m\n",
      " \u001b[90m [d330b81b] \u001b[39m\u001b[37mPyPlot v2.9.0\u001b[39m\n",
      " \u001b[90m [3646fa90] \u001b[39m\u001b[37mScikitLearn v0.6.2\u001b[39m\n",
      " \u001b[90m [f3b207a7] \u001b[39m\u001b[37mStatsPlots v0.14.15\u001b[39m\n",
      " \u001b[90m [37e2e46d] \u001b[39m\u001b[37mLinearAlgebra\u001b[39m\n",
      " \u001b[90m [9a3f8284] \u001b[39m\u001b[37mRandom\u001b[39m\n",
      " \u001b[90m [10745b16] \u001b[39m\u001b[37mStatistics\u001b[39m\n"
     ]
    }
   ],
   "source": [
    "]status"
   ]
  },
  {
   "cell_type": "code",
   "execution_count": 5,
   "metadata": {},
   "outputs": [],
   "source": [
    "using CSV, Plots, DataFrames, Statistics, LinearAlgebra, PyCall, Random"
   ]
  },
  {
   "cell_type": "code",
   "execution_count": 36,
   "metadata": {},
   "outputs": [],
   "source": [
    "train_df = CSV.read(\"train.csv\", DataFrame);\n",
    "train = Matrix(train_df);\n",
    "Xtrain = train[:, 1:(end-3)];\n",
    "\n",
    "train_std = train[:, 190];\n",
    "train_ppr = train[:, 191];\n",
    "train_half = train[:, 192];\n",
    "\n",
    "test_df = CSV.read(\"test.csv\", DataFrame);\n",
    "test = Matrix(test_df);\n",
    "Xtest = test[:, 1:(end-3)];\n",
    "\n",
    "test_std = test[:, 190];\n",
    "test_ppr = test[:, 191];\n",
    "test_half = test[:, 192];"
   ]
  },
  {
   "cell_type": "code",
   "execution_count": 12,
   "metadata": {
    "scrolled": true
   },
   "outputs": [
    {
     "data": {
      "text/plain": [
       "PyObject LinearRegression()"
      ]
     },
     "execution_count": 12,
     "metadata": {},
     "output_type": "execute_result"
    }
   ],
   "source": [
    "lm = pyimport(\"sklearn.linear_model\")\n",
    "ms = pyimport(\"sklearn.model_selection\")\n",
    "metrics = pyimport(\"sklearn.metrics\")\n",
    "lr = lm.LinearRegression()"
   ]
  },
  {
   "cell_type": "code",
   "execution_count": 50,
   "metadata": {},
   "outputs": [
    {
     "data": {
      "text/plain": [
       "Dict{Any,Any} with 4 entries:\n",
       "  \"fit_time\"   => [1.19873, 1.13384, 1.17033, 1.13896, 1.15283, 1.12634, 1.1297…\n",
       "  \"score_time\" => [0.00498748, 0.00299263, 0.00299597, 0.00300384, 0.00399041, …\n",
       "  \"estimator\"  => (PyObject LinearRegression(), PyObject LinearRegression(), Py…\n",
       "  \"test_score\" => [-19.4019, -20.3972, -20.3694, -19.26, -19.5687, -18.6355, -2…"
      ]
     },
     "execution_count": 50,
     "metadata": {},
     "output_type": "execute_result"
    }
   ],
   "source": [
    "Random.seed!(0)\n",
    "lm_cv = ms.cross_validate(lr, Xtrain, train_std, scoring = \"neg_mean_squared_error\", cv = 10, return_estimator = true)"
   ]
  },
  {
   "cell_type": "code",
   "execution_count": 51,
   "metadata": {},
   "outputs": [
    {
     "data": {
      "text/plain": [
       "10-element Array{Float64,1}:\n",
       " -19.40186817895818\n",
       " -20.397181819484718\n",
       " -20.369369785145558\n",
       " -19.26000643968881\n",
       " -19.568684395388058\n",
       " -18.63549692253282\n",
       " -20.28925951099432\n",
       " -20.386428289477415\n",
       " -20.08919402632861\n",
       " -19.685583415680206"
      ]
     },
     "execution_count": 51,
     "metadata": {},
     "output_type": "execute_result"
    }
   ],
   "source": [
    "lm_cv[\"test_score\"]"
   ]
  },
  {
   "cell_type": "code",
   "execution_count": 56,
   "metadata": {},
   "outputs": [
    {
     "data": {
      "text/plain": [
       "189-element Array{Float64,1}:\n",
       "  0.04339017348232608\n",
       "  4.810698640099426\n",
       " -2.3657577653065394\n",
       " -0.04084052483211989\n",
       " -0.0018732410804482014\n",
       " -0.17719466382665763\n",
       "  0.1367918612002914\n",
       "  7.436589864329502\n",
       "  0.025503737582328184\n",
       " -0.149930960581512\n",
       "  0.12540062033436472\n",
       "  7.083969954644814\n",
       " -2.608853522263473\n",
       "  ⋮\n",
       "  8.881784197001252e-16\n",
       " -0.8369196447996181\n",
       " -4.440892098500626e-16\n",
       " -3.469400547081872\n",
       " -0.7989706825161744\n",
       "  3.9049242570453324\n",
       " -1.882929698823729\n",
       "  0.0\n",
       "  0.0\n",
       "  0.0\n",
       "  0.0\n",
       "  0.0"
      ]
     },
     "execution_count": 56,
     "metadata": {},
     "output_type": "execute_result"
    }
   ],
   "source": [
    "lm_cv[\"estimator\"][6].coef_"
   ]
  }
 ],
 "metadata": {
  "kernelspec": {
   "display_name": "Julia 1.5.1",
   "language": "julia",
   "name": "julia-1.5"
  },
  "language_info": {
   "file_extension": ".jl",
   "mimetype": "application/julia",
   "name": "julia",
   "version": "1.5.1"
  }
 },
 "nbformat": 4,
 "nbformat_minor": 4
}
